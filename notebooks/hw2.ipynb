{
 "cells": [
  {
   "cell_type": "markdown",
   "metadata": {},
   "source": [
    "# Майнор по Анализу Данных, Группа ИАД-2\n",
    "## Домашнее задание №2: Классификация текстовых данных"
   ]
  },
  {
   "cell_type": "markdown",
   "metadata": {},
   "source": [
    "<hr\\>\n",
    "В задании вы будете решать задачу бинарной классификации текстов. Вы познакомитесь с основными инструментами sklearn, необходимыми для обработки текстов. Перед применением методов sklearn внимательно читайте документацию к ним: это полезно и помогает делать меньше ошибок.\n",
    "\n",
    "**Общая информация**\n",
    "\n",
    "**Срок сдачи:** 1 мая 2017, 9:00 <br\\>\n",
    "\n",
    "При отправлении ДЗ на почту `hse.minor.dm+X@gmail.com`, X = 3 или 4 (ИАД 3 или ИАД4), указывайте фамилию в названии файла, а тему письма оформляйте в следующем виде:<br\\>\n",
    "** [HW2, ИАД-X] Фамилия Имя **<br\\>\n",
    "\n",
    "Сопровождайте ваш код изображеними, комментариями и выводами. <br\\>\n",
    "Имейте ввиду, что на некоторые задачи нет единственного верного и полного ответа. Чем больше информации вы сможете извлечь, аргументированных выводов сформулировать, тем лучше.\n",
    "__Старайтесь не копировать похожие участки кода. Везде, где это возможно, оформляйте код в функцию.__\n",
    "\n",
    "Используйте данный Ipython Notebook при оформлении домашнего задания.\n",
    "<hr\\>"
   ]
  },
  {
   "cell_type": "markdown",
   "metadata": {},
   "source": [
    "<p>Чтобы узнать свой вариант, введите Вашу фамилию на русском языке в соответвующее поле ниже и запустите ячейку:</p>"
   ]
  },
  {
   "cell_type": "code",
   "execution_count": 198,
   "metadata": {},
   "outputs": [
    {
     "name": "stdout",
     "output_type": "stream",
     "text": [
      "Ваш вариант -  2\n"
     ]
    }
   ],
   "source": [
    "name = \"\" # Ваши ФамилияИмя\n",
    "\n",
    "alp = 'абвгдеёжзийклмнопрстуфхцчшщъыьэюя'\n",
    "w = [4, 42, 21, 21, 34,  1, 44, 26, 18, 43, 38, 26, 18, 43,  3, 49, 45,\n",
    "        7, 42, 25,  4,  9, 36, 33, 31, 29,  5, 31,  4, 19, 24, 27, 33]\n",
    "d = dict(zip(alp, w))\n",
    "variant =  sum([d[el] for el in name.lower()]) % 2 + 1\n",
    "print(\"Ваш вариант - \", variant)"
   ]
  },
  {
   "cell_type": "markdown",
   "metadata": {},
   "source": [
    "<p><b>Варианты</b></p>"
   ]
  },
  {
   "cell_type": "markdown",
   "metadata": {},
   "source": [
    "В зависимости от варианта нужно будет научиться определять...\n",
    "\n",
    "**1.** ...является ли SMS сообщение спамом? \n",
    "* Зайдите на [страничку с данными](https://archive.ics.uci.edu/ml/datasets/SMS+Spam+Collection) на сайте репозитория UCI.\n",
    "* Нажмите на «Data Folder», скачайте и распакуйте архив.\n",
    "* Открыть SMSSpamCollection можно с помощью pd.read_csv, указав `sep='\\t'`.\n",
    "\n",
    "**2.** ...положительна или отрицательна рецензия на фильм?\n",
    "* Зайдите на [страничку с данными](http://www.cs.cornell.edu/people/pabo/movie-review-data/) на сайте Корнельского университета.\n",
    "* Нажмите на «polarity dataset v2.0» и распакуйте архив. \n",
    "* Каждый текстовый файл соответствует одной рецензии. Вам придётся [построить список всех файлов в папке](http://stackoverflow.com/questions/3207219/how-to-list-all-files-of-a-directory), а затем последовательно открыть их и прочитать тексты"
   ]
  },
  {
   "cell_type": "markdown",
   "metadata": {},
   "source": [
    "## Задача 1\n",
    "#### Классификация текстовых сообщений (2 балла)"
   ]
  },
  {
   "cell_type": "markdown",
   "metadata": {},
   "source": [
    "<ol>\n",
    "    <li>Загрузите исходные данные --- список текстов и список соответствующих им меток</li>\n",
    "    <li>Разбейте объекты на обучающее (train) и тестовое подможества (test) в пропорции 7:3</li>\n",
    "    <li>Переведите текстовые данные в векторный вид. Для этого воcпользуйтесь средствами sklearn для конвертации текста в векторы TF-IDF (настраивать только на обучающем подмножестве, n-gram=1, слова приведите в нижний регистр)</li>\n",
    "    <li>Постройте на обучающем подмножестве следующие модели классификации:\n",
    "        <ul>\n",
    "            <li>K-ближайших соседей ($n=5$)</li>\n",
    "            <li>Логистическая регрессия ($C=1$)</li>\n",
    "            <li>Мультиномиальный наивный Байес ($\\alpha=1$)</li> \n",
    "        </ul>\n",
    "    </li>\n",
    "    <li>Определите качество классификации (по доле правильных классификаций) на тестовом подмножестве</li>\n",
    "    <li>Определите с помощью timeit время обучения и предсказания (на тестовом подмножестве) </li>\n",
    "</ol>"
   ]
  },
  {
   "cell_type": "code",
   "execution_count": 199,
   "metadata": {
    "collapsed": true
   },
   "outputs": [],
   "source": [
    "%matplotlib inline\n",
    "import pandas as pd\n",
    "import numpy as np\n",
    "import matplotlib.pyplot as plt"
   ]
  },
  {
   "cell_type": "code",
   "execution_count": 200,
   "metadata": {
    "collapsed": true
   },
   "outputs": [],
   "source": [
    "random_state = 12345 # для всех объектов/методов/моделей"
   ]
  },
  {
   "cell_type": "code",
   "execution_count": 201,
   "metadata": {},
   "outputs": [],
   "source": [
    "# Параметры логистической регрессии\n",
    "#penalty=\"l2\", fit_intercept=True, max_iter=100, C=1, solver=\"lbfgs\", random_state=12345"
   ]
  },
  {
   "cell_type": "code",
   "execution_count": 202,
   "metadata": {},
   "outputs": [],
   "source": [
    "from os import listdir\n",
    "from os.path import isfile, join\n",
    "\n",
    "from sklearn.model_selection import train_test_split\n",
    "\n",
    "\n",
    "def getText(myfiles):\n",
    "    resTexts = []\n",
    "    for file in myfiles:\n",
    "        fd = open(file, 'r')\n",
    "        resTexts.append(fd.read())\n",
    "        fd.close()\n",
    "    return resTexts\n",
    "\n",
    "# Загрузим исходные данные\n",
    "pospath = 'pos/'\n",
    "negpath = 'neg/'\n",
    "posfiles = [pospath + f for f in listdir(pospath) if isfile(join(pospath, f))] # 'pos/filename.txt'\n",
    "negfiles = [negpath + f for f in listdir(negpath) if isfile(join(negpath, f))]\n",
    "\n",
    "myfiles = []\n",
    "myfiles.extend(posfiles)\n",
    "myfiles.extend(negfiles)\n",
    "\n",
    "reviewtype = [1 for x in posfiles] # '1' for positive\n",
    "reviewtype += [0 for x in negfiles] # '0' for negative\n",
    "\n",
    "text = getText(myfiles)\n",
    "\n",
    "# Разобьем их\n",
    "X_train, X_test, y_train, y_test = train_test_split(text, reviewtype, test_size=0.3, random_state=random_state)"
   ]
  },
  {
   "cell_type": "code",
   "execution_count": 203,
   "metadata": {
    "collapsed": true
   },
   "outputs": [],
   "source": [
    "from sklearn.feature_extraction.text import TfidfVectorizer\n",
    "tfidf = TfidfVectorizer(lowercase=True, ngram_range=(1, 1))\n",
    "\n",
    "# Переведем данные в векторный вид алгоритмом TF-IDF, на обучающем подмножестве\n",
    "tfidf_train = tfidf.fit_transform(X_train)"
   ]
  },
  {
   "cell_type": "markdown",
   "metadata": {},
   "source": [
    "### KNN\n",
    "*Parameters:*\n",
    "1. n = 5\n",
    "2. metrics is Euclidean"
   ]
  },
  {
   "cell_type": "code",
   "execution_count": 204,
   "metadata": {},
   "outputs": [
    {
     "data": {
      "text/plain": [
       "KNeighborsClassifier(algorithm='auto', leaf_size=30, metric='euclidean',\n",
       "           metric_params=None, n_jobs=1, n_neighbors=5, p=2,\n",
       "           weights='uniform')"
      ]
     },
     "execution_count": 204,
     "metadata": {},
     "output_type": "execute_result"
    }
   ],
   "source": [
    "from sklearn.neighbors import KNeighborsClassifier\n",
    "clf = KNeighborsClassifier(n_neighbors=5, metric='euclidean')\n",
    "clf.fit(tfidf_train, y_train)"
   ]
  },
  {
   "cell_type": "code",
   "execution_count": 205,
   "metadata": {},
   "outputs": [
    {
     "name": "stdout",
     "output_type": "stream",
     "text": [
      "1000 loops, best of 3: 1.38 ms per loop\n"
     ]
    }
   ],
   "source": [
    "# Время обучения KNN\n",
    "%timeit clf.fit(tfidf_train, y_train)"
   ]
  },
  {
   "cell_type": "markdown",
   "metadata": {},
   "source": [
    "### Логистическая регрессия\n",
    "*Parameters:*\n",
    "1. penalty=\"l2\"\n",
    "2. fit_intercept=True\n",
    "3. max_iter=100\n",
    "4. C=1\n",
    "5. solver=\"lbfgs\"\n",
    "6. random_state=12345"
   ]
  },
  {
   "cell_type": "code",
   "execution_count": 206,
   "metadata": {
    "scrolled": true
   },
   "outputs": [
    {
     "data": {
      "text/plain": [
       "LogisticRegression(C=1, class_weight=None, dual=False, fit_intercept=True,\n",
       "          intercept_scaling=1, max_iter=100, multi_class='ovr', n_jobs=1,\n",
       "          penalty='l2', random_state=12345, solver='lbfgs', tol=0.0001,\n",
       "          verbose=0, warm_start=False)"
      ]
     },
     "execution_count": 206,
     "metadata": {},
     "output_type": "execute_result"
    }
   ],
   "source": [
    "from sklearn.linear_model import LogisticRegression\n",
    "lgr = LogisticRegression(penalty=\"l2\", fit_intercept=True, max_iter=100, C=1, solver=\"lbfgs\", random_state=12345)\n",
    "lgr.fit(tfidf_train, y_train)"
   ]
  },
  {
   "cell_type": "code",
   "execution_count": 207,
   "metadata": {},
   "outputs": [
    {
     "name": "stdout",
     "output_type": "stream",
     "text": [
      "10 loops, best of 3: 65.3 ms per loop\n"
     ]
    }
   ],
   "source": [
    "# Время обучения LogisticRegression\n",
    "%timeit lgr.fit(tfidf_train, y_train)"
   ]
  },
  {
   "cell_type": "markdown",
   "metadata": {},
   "source": [
    "### Мультиномиальный наивный Байес\n",
    "*parameters:*\n",
    "1. $\\alpha=1$ (Additive (Laplace/Lidstone) smoothing parameter (0 for no smoothing))"
   ]
  },
  {
   "cell_type": "code",
   "execution_count": 208,
   "metadata": {},
   "outputs": [
    {
     "data": {
      "text/plain": [
       "MultinomialNB(alpha=1, class_prior=None, fit_prior=True)"
      ]
     },
     "execution_count": 208,
     "metadata": {},
     "output_type": "execute_result"
    }
   ],
   "source": [
    "from sklearn.naive_bayes import MultinomialNB\n",
    "mnb = MultinomialNB(alpha=1)\n",
    "mnb.fit(tfidf_train, y_train)"
   ]
  },
  {
   "cell_type": "code",
   "execution_count": 209,
   "metadata": {},
   "outputs": [
    {
     "name": "stdout",
     "output_type": "stream",
     "text": [
      "100 loops, best of 3: 5.26 ms per loop\n"
     ]
    }
   ],
   "source": [
    "# Время обучения Наивного Баейса\n",
    "%timeit mnb.fit(tfidf_train, y_train)"
   ]
  },
  {
   "cell_type": "markdown",
   "metadata": {},
   "source": [
    "### Качество классификации:"
   ]
  },
  {
   "cell_type": "code",
   "execution_count": 210,
   "metadata": {},
   "outputs": [
    {
     "name": "stdout",
     "output_type": "stream",
     "text": [
      "KNN MAE: 0.4116666666666667\n",
      "LogReg MAE: 0.175\n",
      "Bayes MAE: 0.25333333333333335\n"
     ]
    }
   ],
   "source": [
    "from sklearn.metrics import mean_absolute_error\n",
    "tfidf_test = tfidf.transform(X_test)\n",
    "\n",
    "# KNN\n",
    "y_pred = clf.predict(tfidf_test)\n",
    "mae_knn = mean_absolute_error(y_true=y_test, y_pred=y_pred)\n",
    "\n",
    "# LogReg\n",
    "y_pred = lgr.predict(tfidf_test)\n",
    "mae_lgr = mean_absolute_error(y_true=y_test, y_pred=y_pred)\n",
    "\n",
    "# Bayes\n",
    "y_pred = mnb.predict(tfidf_test)\n",
    "mae_mnb = mean_absolute_error(y_true=y_test, y_pred=y_pred)\n",
    "\n",
    "print(\"KNN MAE: {0}\\nLogReg MAE: {1}\\nBayes MAE: {2}\".format(mae_knn, mae_lgr, mae_mnb))"
   ]
  },
  {
   "cell_type": "code",
   "execution_count": 211,
   "metadata": {},
   "outputs": [
    {
     "name": "stdout",
     "output_type": "stream",
     "text": [
      "KNN: 10 loops, best of 3: 162 ms per loop\n",
      "LogReg: 1000 loops, best of 3: 361 µs per loop\n",
      "Bayes: 1000 loops, best of 3: 939 µs per loop\n"
     ]
    }
   ],
   "source": [
    "### Время предсказания:\n",
    "print('KNN: ', end='')\n",
    "%timeit clf.predict(tfidf_test)\n",
    "print('LogReg: ', end='')\n",
    "%timeit lgr.predict(tfidf_test)\n",
    "print('Bayes: ', end='')\n",
    "%timeit mnb.predict(tfidf_test)"
   ]
  },
  {
   "cell_type": "markdown",
   "metadata": {},
   "source": [
    "## Задача 2.\n",
    "#### Применение k-folds (3 балла)"
   ]
  },
  {
   "cell_type": "markdown",
   "metadata": {},
   "source": [
    "<p>1. Повторите решение задачи 1, но вместо одного разделения на обучение и контроль используйте разбиение k-folds (k=4). Вам понадобится повторить все действия 4 раза. <br>\n",
    "2. Какой классификатор показывал лучшее/худшее качество на тестовой выборке? А при k-folds разбиении? Как вы думаете, обязательно ли в данной задаче оценивать качество на кросс-валидации, или достаточно отложить контрольную выборку и оценивать качество на ней?</p>"
   ]
  },
  {
   "cell_type": "code",
   "execution_count": 212,
   "metadata": {
    "collapsed": true
   },
   "outputs": [],
   "source": [
    "random_state = 12345 # для всех объектов/методов/моделей"
   ]
  },
  {
   "cell_type": "code",
   "execution_count": 213,
   "metadata": {
    "collapsed": true
   },
   "outputs": [],
   "source": [
    "def TestModel(model, kf, X, y):\n",
    "    # model -- func for model (already with the right parameters)\n",
    "    # kf -- KFold splitter\n",
    "    # X -- data\n",
    "    # y -- ans\n",
    "    \n",
    "    tfidf = TfidfVectorizer(lowercase=True, ngram_range=(1, 1))\n",
    "    \n",
    "    # Present data as numpy arrays\n",
    "    X_nparr = np.asarray(X)\n",
    "    y_nparr = np.asarray(y)\n",
    "    y_pred = np.zeros(len(y))\n",
    "    \n",
    "    for train_index, test_index in kf.split(X_nparr, y_nparr):\n",
    "        kf_train = tfidf.fit_transform(X_nparr[train_index])\n",
    "        kf_test = tfidf.transform(X_nparr[test_index])\n",
    "        \n",
    "        model.fit(kf_train, y_nparr[train_index])\n",
    "        y_pred[test_index] = model.predict(kf_test)\n",
    "        \n",
    "    # Get the MAE here:\n",
    "    return mean_absolute_error(y_true=y, y_pred=y_pred)"
   ]
  },
  {
   "cell_type": "code",
   "execution_count": 214,
   "metadata": {},
   "outputs": [
    {
     "name": "stdout",
     "output_type": "stream",
     "text": [
      "MAE of different models using KFolds:\n",
      "KNN: 0.535\n",
      "LogisticRegression: 0.7695\n",
      "MultinomialNB: 1.0\n"
     ]
    }
   ],
   "source": [
    "from sklearn.model_selection import KFold\n",
    "kf = KFold(n_splits=4, random_state=random_state)\n",
    "\n",
    "# Make some aliases\n",
    "X = text # All the texts. Positive first, negative later\n",
    "y = reviewtype # Ans\n",
    "\n",
    "# Test on:\n",
    "# clf = KNeighborsClassifier(n_neighbors=5, metric='euclidean')\n",
    "# lgr = LogisticRegression(penalty=\"l2\", fit_intercept=True, max_iter=100, C=1, solver=\"lbfgs\", random_state=12345)\n",
    "# mnb = MultinomialNB(alpha=1)\n",
    "\n",
    "knn_kf_mae = TestModel(clf, kf, X, y)\n",
    "lgr_kf_mae = TestModel(lgr, kf, X, y)\n",
    "mnb_kf_mae = TestModel(mnb, kf, X, y)\n",
    "\n",
    "print(\"MAE of different models using KFolds:\\nKNN: {0}\\nLogisticRegression: {1}\\nMultinomialNB: {2}\".format(knn_kf_mae, \n",
    "                                                                                                           lgr_kf_mae, \n",
    "                                                                                                           mnb_kf_mae))"
   ]
  },
  {
   "cell_type": "markdown",
   "metadata": {},
   "source": [
    "### Результаты\n",
    "Как видим, все модели ухудшили свои результаты (в критериях MAE) по сравнению с результатами в Задаче 1."
   ]
  },
  {
   "cell_type": "markdown",
   "metadata": {},
   "source": [
    "## Задача 3.\n",
    "#### Выбор модели (5 баллов)"
   ]
  },
  {
   "cell_type": "markdown",
   "metadata": {},
   "source": [
    "<p style=\"padding-left:15px;\">1. Используя данные из задачи 1, разбейте обучающее подмножество (train) с использованием k-folds (k=4) <br>\n",
    "2. Рассмотрим следующие варианты значений гиперпараметров для наших классификаторов:  </p>"
   ]
  },
  {
   "cell_type": "markdown",
   "metadata": {},
   "source": [
    "<p>K-ближайших соседей</p>"
   ]
  },
  {
   "cell_type": "code",
   "execution_count": 215,
   "metadata": {
    "collapsed": true
   },
   "outputs": [],
   "source": [
    "ns = np.arange(1, 150, 20) # количество соседей"
   ]
  },
  {
   "cell_type": "markdown",
   "metadata": {},
   "source": [
    "<p>Логистическая регрессия</p>"
   ]
  },
  {
   "cell_type": "code",
   "execution_count": 216,
   "metadata": {
    "collapsed": true
   },
   "outputs": [],
   "source": [
    "cs = np.logspace(-2, 10, 8, base=10) # параметр регуляризации"
   ]
  },
  {
   "cell_type": "markdown",
   "metadata": {},
   "source": [
    "<p>Мультиномиальный наивный Байес</p>"
   ]
  },
  {
   "cell_type": "code",
   "execution_count": 217,
   "metadata": {
    "collapsed": true
   },
   "outputs": [],
   "source": [
    "alphas = np.logspace(-4, 1, 8, base=10) # сглаживающий параметр"
   ]
  },
  {
   "cell_type": "markdown",
   "metadata": {},
   "source": [
    "<p style=\"padding-left:15px;\"> Найдите оптимальные значения гиперпараметров для классификаторов на кросс-валидации. Для этого постройте графики (гиперпараметр)-(качество) на обучении и валидации. <br> _Пояснение:_ вы разбили обучающую выборку на 4 блока. Для каждого значения гиперпараметра 4 раза повторите следующее: берем 3 блока для обучения, по ним настраиваем  TfIdf и обучаем классификатор, считаем качество на этих блоках (качество на обучении) и на оставшемся (качество на валидации). Итоговое значение качества на обучении для данного значения гиперпараметра - это среднее четырех полученных значений качества на обучении, то же самое с итоговым значением качества на валидации.  <br>\n",
    "3. 3 настроенные модели обучите на всем обучающем подмножестве (train) и протестируйте на тестовом (test). Определите время обучения и предсказания (см. задачу 1 п. 6)<br>\n",
    "4. Повторите шаги 2-4 для n-gram=2<br>\n",
    "5. Выведите итоговые данные по всем методам для лучших моделей (метод, n-gram, значение параметра модели, время обучения, время предсказания, доля правильных классификаций)<br>\n",
    "6. Сделайте выводы по полученным результатам: <ul>\n",
    "<li>какой метод показал наилучшее качество на обучении? на валидации? на тестовой выборке? Если это разные классификаторы, подумайте, почему так происходит. Если один и тот же, в чем его преимущества перед остальными?</li>\n",
    "<li>велика ли разница между качеством на обучении и на валидации? на валидации и контроле? Почему так происходит?</li>\n",
    "<li>что означает n-gram=2? Улучшилось ли качество при переходе от n-gram=1 к n-gram=2? Предложите свои идеи, почему.</li>\n",
    "<li>есть ли связь между качеством классификации и временем обучения/предсказания? какой классификатор обучается медленнее всего? медленнее всего делает предсказания? В чем причина?</li>\n",
    "</ul></p>"
   ]
  },
  {
   "cell_type": "code",
   "execution_count": 218,
   "metadata": {
    "collapsed": true
   },
   "outputs": [],
   "source": [
    "random_state = 12345 # для всех объектов/методов/моделей"
   ]
  },
  {
   "cell_type": "code",
   "execution_count": 219,
   "metadata": {},
   "outputs": [],
   "source": [
    "from sklearn.model_selection import KFold\n",
    "from sklearn.metrics import accuracy_score\n",
    "X_train, X_test, y_train, y_test = train_test_split(text, reviewtype, test_size=0.3, random_state=random_state)\n",
    "\n",
    "kf = KFold(n_splits=4, random_state=random_state)\n",
    "\n",
    "\n",
    "def TestModelHyperparam(model, X_train, y_train, kf, ng):\n",
    "    # This function doesn't set ANY hyperparameters in the model alg!\n",
    "    #\n",
    "    # model -- A model with the right hyperparameter to test\n",
    "    # kf -- KFold splitter\n",
    "    # ng -- (ng, ng) n-gram range\n",
    "    \n",
    "    # Present data as numpy arrays\n",
    "    Xnp_train = np.asarray(X_train)\n",
    "    ynp_train = np.asarray(y_train)\n",
    "    \n",
    "    train_quality = [] # Качество на обучении\n",
    "    val_quality = []   # Качество на валидации\n",
    "    \n",
    "    tfidf = TfidfVectorizer(lowercase=True, ngram_range=(ng, ng))\n",
    "    for train_index, test_index in kf.split(Xnp_train, ynp_train):\n",
    "        kf_train = tfidf.fit_transform(Xnp_train[train_index])\n",
    "        kf_test = tfidf.transform(Xnp_train[test_index])\n",
    "        \n",
    "        model.fit(kf_train, ynp_train[train_index])\n",
    "        \n",
    "        train_quality.append(accuracy_score(y_true=ynp_train[train_index], y_pred=model.predict(kf_train)))\n",
    "        val_quality.append(accuracy_score(y_true=ynp_train[test_index], y_pred=model.predict(kf_test)))\n",
    "        \n",
    "    return (train_quality, val_quality)\n"
   ]
  },
  {
   "cell_type": "code",
   "execution_count": 220,
   "metadata": {},
   "outputs": [],
   "source": [
    "def MakeHyperparamQualityPlot(hdata, hrange,  model_name, hyperparam_name, scatter=False):\n",
    "    # hdata -- dictionary of special kind: \n",
    "    # dict((x, {'train': 0, 'val': 0}) for x in ns)\n",
    "    fig, ax = plt.subplots()\n",
    "    ax.set_xlabel(hyperparam_name)\n",
    "    ax.set_ylabel('Accuracy score')\n",
    "    ax.set_title(model_name)\n",
    "    \n",
    "    train_res = []\n",
    "    val_res = []\n",
    "    \n",
    "    for x in hdata:\n",
    "       \n",
    "        vt = hdata[x].get('train', -1)\n",
    "        vv = hdata[x].get('val', -1)\n",
    "        \n",
    "        if vt != -1:\n",
    "            train_res.append(vt)\n",
    "        if vv != -1:\n",
    "            val_res.append(vv)\n",
    "\n",
    "    if scatter:\n",
    "        ax.scatter(x=hrange, y=train_res, c='r')\n",
    "        ax.scatter(x=hrange, y=val_res, c='g')\n",
    "    else:\n",
    "        ax.plot(hrange, train_res, 'r')\n",
    "        ax.plot(hrange, val_res, 'g')\n",
    "\n"
   ]
  },
  {
   "cell_type": "markdown",
   "metadata": {
    "collapsed": true
   },
   "source": [
    "## Найдем оптимальные значения гиперпараметров:\n",
    "## 1. KNN:"
   ]
  },
  {
   "cell_type": "code",
   "execution_count": 221,
   "metadata": {},
   "outputs": [
    {
     "data": {
      "text/plain": [
       "{1: {'train': 0, 'val': 0},\n",
       " 21: {'train': 0, 'val': 0},\n",
       " 41: {'train': 0, 'val': 0},\n",
       " 61: {'train': 0, 'val': 0},\n",
       " 81: {'train': 0, 'val': 0},\n",
       " 101: {'train': 0, 'val': 0},\n",
       " 121: {'train': 0, 'val': 0},\n",
       " 141: {'train': 0, 'val': 0}}"
      ]
     },
     "execution_count": 221,
     "metadata": {},
     "output_type": "execute_result"
    }
   ],
   "source": [
    "dict((x, {'train': 0, 'val': 0}) for x in ns) # Так будем хранить инфу о среднем качестве на обучении и на валидации \n",
    "# для каждого значения гиперпараметра"
   ]
  },
  {
   "cell_type": "code",
   "execution_count": 222,
   "metadata": {},
   "outputs": [],
   "source": [
    "def TestKNN_MakePlot(ngram):\n",
    "    mean_qual_hyperparam = dict((x, {'train': 0, 'val': 0}) for x in ns)\n",
    "    \n",
    "    for n in ns:\n",
    "        clf = KNeighborsClassifier(n_neighbors=n, metric='euclidean')\n",
    "        train_quality, val_quality = TestModelHyperparam(clf, X_train, y_train, kf, ngram)\n",
    "        \n",
    "        mean_qual_hyperparam[n]['train'] = sum(train_quality)/len(train_quality)\n",
    "        mean_qual_hyperparam[n]['val'] = sum(val_quality)/len(val_quality)\n",
    "        \n",
    "    MakeHyperparamQualityPlot(mean_qual_hyperparam, ns, 'KNN', 'Number of neighbors')"
   ]
  },
  {
   "cell_type": "code",
   "execution_count": 223,
   "metadata": {},
   "outputs": [
    {
     "data": {
      "image/png": "[encoded data removed]",
      "text/plain": [
       "<matplotlib.figure.Figure at 0x7f515d6a2320>"
      ]
     },
     "metadata": {},
     "output_type": "display_data"
    }
   ],
   "source": [
    "# Для значения n-gram=1:\n",
    "TestKNN_MakePlot(1)"
   ]
  },
  {
   "cell_type": "code",
   "execution_count": 224,
   "metadata": {},
   "outputs": [
    {
     "data": {
      "image/png": "[encoded data removed]",
      "text/plain": [
       "<matplotlib.figure.Figure at 0x7f515efd3be0>"
      ]
     },
     "metadata": {},
     "output_type": "display_data"
    }
   ],
   "source": [
    "# Для значения n-gram=2:\n",
    "TestKNN_MakePlot(2)"
   ]
  },
  {
   "cell_type": "markdown",
   "metadata": {},
   "source": [
    "## 2. Логистическая регрессия"
   ]
  },
  {
   "cell_type": "code",
   "execution_count": 225,
   "metadata": {
    "collapsed": true
   },
   "outputs": [],
   "source": [
    "def TestLogSpace_MakePlot(ngram):\n",
    "    hparam = cs\n",
    "    mean_qual_hyperparam = dict((x, {'train': 0, 'val': 0}) for x in hparam)\n",
    "    \n",
    "    for n in hparam:\n",
    "        lgr = LogisticRegression(penalty=\"l2\", fit_intercept=True, max_iter=100, C=n, solver=\"lbfgs\", random_state=12345)\n",
    "        train_quality, val_quality = TestModelHyperparam(lgr, X_train, y_train, kf, ngram)\n",
    "        \n",
    "        mean_qual_hyperparam[n]['train'] = sum(train_quality)/len(train_quality)\n",
    "        mean_qual_hyperparam[n]['val'] = sum(val_quality)/len(val_quality)\n",
    "    \n",
    "    # Make a scatter plot here\n",
    "    MakeHyperparamQualityPlot(mean_qual_hyperparam, hparam, 'Логистическая регрессия', 'Параметр регуляризации', True)"
   ]
  },
  {
   "cell_type": "code",
   "execution_count": 226,
   "metadata": {},
   "outputs": [
    {
     "data": {
      "image/png": "[encoded data removed]",
      "text/plain": [
       "<matplotlib.figure.Figure at 0x7f51657013c8>"
      ]
     },
     "metadata": {},
     "output_type": "display_data"
    }
   ],
   "source": [
    "# n-gram=1\n",
    "TestLogSpace_MakePlot(1)"
   ]
  },
  {
   "cell_type": "code",
   "execution_count": 227,
   "metadata": {},
   "outputs": [
    {
     "data": {
      "image/png": "[encoded data removed]",
      "text/plain": [
       "<matplotlib.figure.Figure at 0x7f5168a275c0>"
      ]
     },
     "metadata": {},
     "output_type": "display_data"
    }
   ],
   "source": [
    "# n-gram=2\n",
    "TestLogSpace_MakePlot(2)"
   ]
  },
  {
   "cell_type": "markdown",
   "metadata": {},
   "source": [
    "## 3. Мультиномиальный наивный Байес"
   ]
  },
  {
   "cell_type": "code",
   "execution_count": 228,
   "metadata": {
    "collapsed": true
   },
   "outputs": [],
   "source": [
    "def TestMNB_MakePlot(ngram):\n",
    "    hparam = alphas\n",
    "    mean_qual_hyperparam = dict((x, {'train': 0, 'val': 0}) for x in hparam)\n",
    "    \n",
    "    for n in hparam:\n",
    "        mnb = MultinomialNB(alpha=n)\n",
    "        train_quality, val_quality = TestModelHyperparam(lgr, X_train, y_train, kf, ngram)\n",
    "        \n",
    "        mean_qual_hyperparam[n]['train'] = sum(train_quality)/len(train_quality)\n",
    "        mean_qual_hyperparam[n]['val'] = sum(val_quality)/len(val_quality)\n",
    "    \n",
    "    MakeHyperparamQualityPlot(mean_qual_hyperparam, hparam, 'Мультиномиальный наивный Байес', 'Сглаживающий параметр', True)"
   ]
  },
  {
   "cell_type": "code",
   "execution_count": 229,
   "metadata": {},
   "outputs": [
    {
     "data": {
      "image/png": "[encoded data removed]",
      "text/plain": [
       "<matplotlib.figure.Figure at 0x7f51635f2fd0>"
      ]
     },
     "metadata": {},
     "output_type": "display_data"
    }
   ],
   "source": [
    "# n-gram=1\n",
    "TestMNB_MakePlot(1)"
   ]
  },
  {
   "cell_type": "code",
   "execution_count": 230,
   "metadata": {},
   "outputs": [
    {
     "data": {
      "image/png": "[encoded data removed]",
      "text/plain": [
       "<matplotlib.figure.Figure at 0x7f5169ad85c0>"
      ]
     },
     "metadata": {},
     "output_type": "display_data"
    }
   ],
   "source": [
    "# n-gram=2\n",
    "TestMNB_MakePlot(2)"
   ]
  },
  {
   "cell_type": "markdown",
   "metadata": {},
   "source": [
    "## Обучение на всем об. подмножестве, тестирование на всем тестовом"
   ]
  },
  {
   "cell_type": "code",
   "execution_count": 231,
   "metadata": {
    "collapsed": true
   },
   "outputs": [],
   "source": [
    "import time\n",
    "\n",
    "def TestModelOnce(X_train, X_test, y_train, y_test, model, ng):\n",
    "\n",
    "    tfidf = TfidfVectorizer(lowercase=True, ngram_range=(ng, ng))\n",
    "    tfidf_train = tfidf.fit_transform(X_train)\n",
    "    tfidf_test = tfidf.transform(X_test)\n",
    "\n",
    "    lst = time.time()\n",
    "    model.fit(tfidf_train, y_train)\n",
    "    lfn = time.time()\n",
    "    y_pred = model.predict(tfidf_test)\n",
    "    predfn = time.time()\n",
    "    \n",
    "    print('> Model {0}\\nLEARNING TIME: {1} seconds\\nPREDICTION TIME: {2} seconds'.format(model, lfn - lst, predfn - lfn))\n",
    "    print('')\n",
    "\n",
    "    return y_pred\n",
    "\n",
    "def TestModelNG(ngram, clf, lgr, mnb):\n",
    "    rs = {'clf':[], 'lgr':[], 'mnb':[]}\n",
    "    rs['clf'] = TestModelOnce(X_train, X_test, y_train, y_test, clf, ngram)\n",
    "    rs['lgr'] = TestModelOnce(X_train, X_test, y_train, y_test, lgr, ngram)\n",
    "    rs['mnb'] = TestModelOnce(X_train, X_test, y_train, y_test, mnb, ngram)\n",
    "    return rs\n",
    "\n",
    "def GetTestModelResult(res):\n",
    "    ac = {'clf':0, 'lgr':0, 'mnb':0}\n",
    "    for key in ac:\n",
    "        ac[key] = accuracy_score(y_true=y_test, y_pred=res[key])\n",
    "    print(\"Accuracy scores by model:\")\n",
    "    for key in ac:\n",
    "        print(key, end=': ')\n",
    "        print(ac[key])"
   ]
  },
  {
   "cell_type": "code",
   "execution_count": 232,
   "metadata": {},
   "outputs": [
    {
     "name": "stdout",
     "output_type": "stream",
     "text": [
      "> Model KNeighborsClassifier(algorithm='auto', leaf_size=30, metric='euclidean',\n",
      "           metric_params=None, n_jobs=1, n_neighbors=100, p=2,\n",
      "           weights='uniform')\n",
      "LEARNING TIME: 0.0016744136810302734 seconds\n",
      "PREDICTION TIME: 0.19688105583190918 seconds\n",
      "\n",
      "> Model LogisticRegression(C=10000000000.0, class_weight=None, dual=False,\n",
      "          fit_intercept=True, intercept_scaling=1, max_iter=100,\n",
      "          multi_class='ovr', n_jobs=1, penalty='l2', random_state=12345,\n",
      "          solver='lbfgs', tol=0.0001, verbose=0, warm_start=False)\n",
      "LEARNING TIME: 0.1262826919555664 seconds\n",
      "PREDICTION TIME: 0.00049591064453125 seconds\n",
      "\n",
      "> Model MultinomialNB(alpha=10, class_prior=None, fit_prior=True)\n",
      "LEARNING TIME: 0.02840280532836914 seconds\n",
      "PREDICTION TIME: 0.0011188983917236328 seconds\n",
      "\n"
     ]
    }
   ],
   "source": [
    "# N-GRAM=1\n",
    "clf = KNeighborsClassifier(n_neighbors=100, metric='euclidean')\n",
    "lgr = LogisticRegression(penalty=\"l2\", fit_intercept=True, max_iter=100, C=1e10, solver=\"lbfgs\", random_state=12345)\n",
    "mnb = MultinomialNB(alpha=10)\n",
    "\n",
    "rs_ngr1 = TestModelNG(1, clf, lgr, mnb)"
   ]
  },
  {
   "cell_type": "code",
   "execution_count": 233,
   "metadata": {},
   "outputs": [
    {
     "name": "stdout",
     "output_type": "stream",
     "text": [
      "> Model KNeighborsClassifier(algorithm='auto', leaf_size=30, metric='euclidean',\n",
      "           metric_params=None, n_jobs=1, n_neighbors=80, p=2,\n",
      "           weights='uniform')\n",
      "LEARNING TIME: 0.0023131370544433594 seconds\n",
      "PREDICTION TIME: 0.1587202548980713 seconds\n",
      "\n",
      "> Model LogisticRegression(C=10000000000.0, class_weight=None, dual=False,\n",
      "          fit_intercept=True, intercept_scaling=1, max_iter=100,\n",
      "          multi_class='ovr', n_jobs=1, penalty='l2', random_state=12345,\n",
      "          solver='lbfgs', tol=0.0001, verbose=0, warm_start=False)\n",
      "LEARNING TIME: 1.0312399864196777 seconds\n",
      "PREDICTION TIME: 0.0010461807250976562 seconds\n",
      "\n",
      "> Model MultinomialNB(alpha=10, class_prior=None, fit_prior=True)\n",
      "LEARNING TIME: 0.03448152542114258 seconds\n",
      "PREDICTION TIME: 0.004630088806152344 seconds\n",
      "\n"
     ]
    }
   ],
   "source": [
    "# N-GRAM=2\n",
    "clf = KNeighborsClassifier(n_neighbors=80, metric='euclidean')\n",
    "\n",
    "rs_ngr2 = TestModelNG(2, clf, lgr, mnb)"
   ]
  },
  {
   "cell_type": "markdown",
   "metadata": {},
   "source": [
    "### Accuracy score моделей в зависимости от n-gram:"
   ]
  },
  {
   "cell_type": "code",
   "execution_count": 234,
   "metadata": {},
   "outputs": [
    {
     "name": "stdout",
     "output_type": "stream",
     "text": [
      "N-GRAM=1:\n",
      "Accuracy scores by model:\n",
      "clf: 0.638333333333\n",
      "lgr: 0.855\n",
      "mnb: 0.561666666667\n",
      "\n",
      "N-GRAM=2:\n",
      "Accuracy scores by model:\n",
      "clf: 0.765\n",
      "lgr: 0.846666666667\n",
      "mnb: 0.705\n"
     ]
    }
   ],
   "source": [
    "print(\"N-GRAM=1:\")\n",
    "GetTestModelResult(rs_ngr1)\n",
    "print('')\n",
    "print(\"N-GRAM=2:\")\n",
    "GetTestModelResult(rs_ngr2)"
   ]
  },
  {
   "cell_type": "markdown",
   "metadata": {},
   "source": [
    "## Выводы:\n",
    "### Для значения параметра n-gram=1:\n",
    "\n",
    "*Качество:*\n",
    "1. Наивысшее качество предсказания для KNN при 100 соседях\n",
    "2. Для LogReg и Байеса трудно сказать однозначно (вероятно, следует выбрать 1e10 и 10 соотв). Графики получаются малоинформативными.\n",
    "\n",
    "*Время работы:*\n",
    "1. KNN обучение: 1.6 мсек, предсказание: 200 мсек\n",
    "2. LogReg обучение: 125.6 мсек, предсказание: 1.1 мсек\n",
    "3. Bayes обучение: 5.3 мсек, предсказание: 1.02 мсек\n",
    "\n",
    "### Для значения параметра n-gram=2:\n",
    "*Качество:*\n",
    "1. Наивысшее качество предсказания для KNN при ~80 соседях\n",
    "2. Для LogReg и Байеса трудно сказать однозначно. Графики получаются малоинформативными.\n",
    "\n",
    "*Время работы:*\n",
    "1. KNN обучение: 2.52 мсек, предсказание: 171 мсек\n",
    "2. LogReg обучение: 1107 мсек, предсказание: 1.113 мсек\n",
    "3. Bayes обучение: 34.82 мсек, предсказание: 4.33 мсек\n",
    "\n",
    "Достаточно сильные различия в характере графика гиперпараметр-качество наблюдаются в модели KNN при измерении значения гиперпараметра n-gram в TF-IDF.\n",
    "\n",
    "Для n-gram=2:\n",
    "* в KNN увеличилось вдвое время обучения, немного уменьшилось время предсказания.\n",
    "* В LogReg в 10 раз увеличилось время обучения\n",
    "* в МНБ в 6 раз увеличилосб время обучения, в 4 раза время предсказания.\n",
    "\n",
    "Для n-gram=2 (обучение на полной тестовой выборке):\n",
    "* KNN -- Повышение качества на 0.1\n",
    "* LGR -- Снижение качества на 0.01\n",
    "* МНБ -- Повышение качества на 0.14\n",
    "\n",
    "Для всех значений параметров наивысшее качество показывает модель Логистической регрессии с параметрами:\n",
    "``C=10000000000.0, class_weight=None, dual=False,\n",
    "          fit_intercept=True, intercept_scaling=1, max_iter=100,\n",
    "          multi_class='ovr', n_jobs=1, penalty='l2', random_state=12345,\n",
    "          solver='lbfgs', tol=0.0001, verbose=0, warm_start=False)\n",
    "``\n",
    "\n",
    "Так как при переходе от n-gram=1 к 2 LogReg начинает обучаться в 10 раз медленнее, гиперпараметр TF-IDF n-gram оставляем равным единице.\n",
    "\n",
    "N-Грамма есть последовательность из N элементов. Например, слов текста. Разница значений 1 и 2 этого параметра в том, что при n-gram=2 будут рассматриваться биграммы. Т.е. этот параметр определяет, на куски какого размера будет разбит текст. \n",
    "\n",
    "Как можно заметить, при увеличении этого параметра время обучения пногих алгоритмов сильно увеличивается.\n",
    "\n"
   ]
  },
  {
   "cell_type": "markdown",
   "metadata": {},
   "source": [
    "## Задача 4. (опционально)\n",
    "#### Исследование влияния количества признаков FeatureHasher на качество классификации (+3 балла к сумме по всем ДЗ) "
   ]
  },
  {
   "cell_type": "markdown",
   "metadata": {},
   "source": [
    "<p>Изучите, что такое feature hashing (достаточно разобаться с документацией sklearn) и кратко опишите. Как будет меняться качество классификации для обозначенных ранее методов при использовании FeatureHasher (или HashingVectorizer) из пакета sklearn перед TF-IDF преобразованием, если</p>"
   ]
  },
  {
   "cell_type": "code",
   "execution_count": 235,
   "metadata": {
    "collapsed": true
   },
   "outputs": [],
   "source": [
    "n_features = np.logspace(1, 5, 5, base=10) # количество признаков\n",
    "non_negative=True"
   ]
  },
  {
   "cell_type": "markdown",
   "metadata": {},
   "source": [
    "<p>В этом задании можно воспользоваться GridSearchCV</p>"
   ]
  },
  {
   "cell_type": "markdown",
   "metadata": {
    "collapsed": true
   },
   "source": [
    "# Задача 5. (опционально)\n",
    "__Простой прототип (+ 2 балла к сумме по всем ДЗ)__\n",
    "\n",
    "Напишите функцию, которая берет на вход произвольную строку и возвращает для нее предсказание для вашей задачи. Придумайте по 3 примера строк для положительного и отрицательного класса, сделайте для них предсказание. Совпадают ли ваши метки и предсказания классификатора? Оцените (любым способом), насколько придуманные вами тексты похожи на объекты датасета, с которым вы работали.\n"
   ]
  },
  {
   "cell_type": "code",
   "execution_count": 236,
   "metadata": {
    "collapsed": true
   },
   "outputs": [],
   "source": [
    "def predict_class_for_text(s):\n",
    "    pass"
   ]
  },
  {
   "cell_type": "code",
   "execution_count": null,
   "metadata": {
    "collapsed": true
   },
   "outputs": [],
   "source": []
  },
  {
   "cell_type": "code",
   "execution_count": null,
   "metadata": {
    "collapsed": true
   },
   "outputs": [],
   "source": []
  }
 ],
 "metadata": {
  "anaconda-cloud": {},
  "kernelspec": {
   "display_name": "Python 3",
   "language": "python",
   "name": "python3"
  },
  "language_info": {
   "codemirror_mode": {
    "name": "ipython",
    "version": 3
   },
   "file_extension": ".py",
   "mimetype": "text/x-python",
   "name": "python",
   "nbconvert_exporter": "python",
   "pygments_lexer": "ipython3",
   "version": "3.6.1"
  },
  "nav_menu": {},
  "toc": {
   "navigate_menu": true,
   "number_sections": false,
   "sideBar": true,
   "threshold": 6,
   "toc_cell": false,
   "toc_section_display": "block",
   "toc_window_display": true
  }
 },
 "nbformat": 4,
 "nbformat_minor": 2
}
