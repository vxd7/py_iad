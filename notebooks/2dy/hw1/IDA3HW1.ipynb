{
 "cells": [
  {
   "cell_type": "markdown",
   "metadata": {},
   "source": [
    "# Домашняя работа №1"
   ]
  },
  {
   "cell_type": "markdown",
   "metadata": {},
   "source": [
    "**Срок сдачи:** 9 октября 2017, 23:59 <br\\>\n",
    "\n",
    "При отправлении ДЗ в Dropbox указывайте фамилию в названии файла: <br\\>\n",
    "** IDA<Номер группы>HW1<Фамилия>.ipynb ** - например ** IDA1HW1Panov.ipynb **<br\\>\n",
    "\n",
    "\n",
    "Сопровождайте ваш код изображеними, комментариями и выводами. <br\\>\n",
    "Иммейте ввиду, что на некоторые задачи нет единственного верного и полного ответа. Чем больше информации вы сможете извлечь, аргументированных выводов сформулировать, тем лучше.\n",
    "\n",
    "Используйте данный Ipython Notebook при оформлении домашнего задания."
   ]
  },
  {
   "cell_type": "markdown",
   "metadata": {},
   "source": [
    "# Table of Contents\n",
    " <p><div class=\"lev1 toc-item\"><a href=\"#Регрессия-с-SVM-(3-балла)\" data-toc-modified-id=\"Регрессия-с-SVM-(3-балла)-1\"><span class=\"toc-item-num\">1&nbsp;&nbsp;</span>Регрессия с SVM (3 балла)</a></div><div class=\"lev2 toc-item\"><a href=\"#Визуализация-данных-(1-балл)\" data-toc-modified-id=\"Визуализация-данных-(1-балл)-11\"><span class=\"toc-item-num\">1.1&nbsp;&nbsp;</span>Визуализация данных (1 балл)</a></div><div class=\"lev2 toc-item\"><a href=\"#Обучение-моделей-(2-балла)\" data-toc-modified-id=\"Обучение-моделей-(2-балла)-12\"><span class=\"toc-item-num\">1.2&nbsp;&nbsp;</span>Обучение моделей (2 балла)</a></div><div class=\"lev1 toc-item\"><a href=\"#Определение-языка-слова-(7-баллов)\" data-toc-modified-id=\"Определение-языка-слова-(7-баллов)-2\"><span class=\"toc-item-num\">2&nbsp;&nbsp;</span>Определение языка слова (7 баллов)</a></div><div class=\"lev2 toc-item\"><a href=\"#Загрузка-(1-балл)\" data-toc-modified-id=\"Загрузка-(1-балл)-21\"><span class=\"toc-item-num\">2.1&nbsp;&nbsp;</span>Загрузка (1 балл)</a></div><div class=\"lev2 toc-item\"><a href=\"#Подход-с-n-граммами-(2-балла)\" data-toc-modified-id=\"Подход-с-n-граммами-(2-балла)-22\"><span class=\"toc-item-num\">2.2&nbsp;&nbsp;</span>Подход с n-граммами (2 балла)</a></div><div class=\"lev2 toc-item\"><a href=\"#Подход-с-пользовательским-ядром\" data-toc-modified-id=\"Подход-с-пользовательским-ядром-23\"><span class=\"toc-item-num\">2.3&nbsp;&nbsp;</span>Подход с пользовательским ядром</a></div><div class=\"lev3 toc-item\"><a href=\"#Подготовка-данных-(1-балла)\" data-toc-modified-id=\"Подготовка-данных-(1-балла)-231\"><span class=\"toc-item-num\">2.3.1&nbsp;&nbsp;</span>Подготовка данных (1 балла)</a></div><div class=\"lev3 toc-item\"><a href=\"#Расчет-ядра-(2-балла)\" data-toc-modified-id=\"Расчет-ядра-(2-балла)-232\"><span class=\"toc-item-num\">2.3.2&nbsp;&nbsp;</span>Расчет ядра (2 балла)</a></div><div class=\"lev3 toc-item\"><a href=\"#Оценка-качества-(1-балл)\" data-toc-modified-id=\"Оценка-качества-(1-балл)-233\"><span class=\"toc-item-num\">2.3.3&nbsp;&nbsp;</span>Оценка качества (1 балл)</a></div>"
   ]
  },
  {
   "cell_type": "markdown",
   "metadata": {},
   "source": [
    "# Регрессия с SVM (3 балла)"
   ]
  },
  {
   "cell_type": "markdown",
   "metadata": {},
   "source": [
    "SVM можно использовать и для задачи регрессии.\n",
    "\n",
    "Загрузите набор данных из *titanium.csv*<br/>\n",
    "Будем решать задачу восстановления столбца 'y' по столбцу 'x'."
   ]
  },
  {
   "cell_type": "markdown",
   "metadata": {},
   "source": [
    "## Визуализация данных (1 балл)"
   ]
  },
  {
   "cell_type": "markdown",
   "metadata": {},
   "source": [
    "Выполните стандартную предобработку данных (вычет среднего и деление на стандартное отклонение) и выведите их на графике."
   ]
  },
  {
   "cell_type": "code",
   "execution_count": 232,
   "metadata": {
    "collapsed": true
   },
   "outputs": [],
   "source": [
    "%matplotlib inline\n",
    "import pandas as pd\n",
    "import numpy as np\n",
    "import matplotlib.pyplot as plt"
   ]
  },
  {
   "cell_type": "code",
   "execution_count": 233,
   "metadata": {},
   "outputs": [
    {
     "data": {
      "text/plain": [
       "array([-1.69705627, -1.6263456 , -1.55563492, -1.48492424, -1.41421356,\n",
       "       -1.34350288, -1.27279221, -1.20208153, -1.13137085, -1.06066017,\n",
       "       -0.98994949, -0.91923882, -0.84852814, -0.77781746, -0.70710678,\n",
       "       -0.6363961 , -0.56568542, -0.49497475, -0.42426407, -0.35355339,\n",
       "       -0.28284271, -0.21213203, -0.14142136, -0.07071068,  0.        ,\n",
       "        0.07071068,  0.14142136,  0.21213203,  0.28284271,  0.35355339,\n",
       "        0.42426407,  0.49497475,  0.56568542,  0.6363961 ,  0.70710678,\n",
       "        0.77781746,  0.84852814,  0.91923882,  0.98994949,  1.06066017,\n",
       "        1.13137085,  1.20208153,  1.27279221,  1.34350288,  1.41421356,\n",
       "        1.48492424,  1.55563492,  1.6263456 ,  1.69705627])"
      ]
     },
     "execution_count": 233,
     "metadata": {},
     "output_type": "execute_result"
    }
   ],
   "source": [
    "df = pd.read_csv('titanium.csv')\n",
    "X = df.x.values\n",
    "Y = df.y.values\n",
    "X = (X - X.mean()) / X.std()\n",
    "X"
   ]
  },
  {
   "cell_type": "code",
   "execution_count": 234,
   "metadata": {},
   "outputs": [
    {
     "data": {
      "text/plain": [
       "<matplotlib.collections.PathCollection at 0x7fd00d969e48>"
      ]
     },
     "execution_count": 234,
     "metadata": {},
     "output_type": "execute_result"
    },
    {
     "data": {
      "image/png": "[encoded data removed]",
      "text/plain": [
       "<matplotlib.figure.Figure at 0x7fd00ff06208>"
      ]
     },
     "metadata": {},
     "output_type": "display_data"
    }
   ],
   "source": [
    "fig, ax = plt.subplots()\n",
    "\n",
    "ax.set_xlabel('X (стандартизированные)')\n",
    "ax.set_ylabel('Y')\n",
    "\n",
    "ax.scatter(X, Y)"
   ]
  },
  {
   "cell_type": "markdown",
   "metadata": {},
   "source": [
    "## Обучение моделей (2 балла)"
   ]
  },
  {
   "cell_type": "markdown",
   "metadata": {},
   "source": [
    "Рассмотрим 3 ядра: \n",
    "* Линейное\n",
    "* Полиномиальное (`degree = 3`, `gamma = 6`, `coef0 = 1`)\n",
    "* RBF (`gamma = 6`, `coef0 = 1`)\n",
    "\n",
    "Во всех случаях установите точность алгоритма оптимизации `epsilon=0.01`\n",
    "\n",
    "Для каждого из ядер:\n",
    "1. Постройте графики зависимости ошибки от параметра $C$ (ось графика со значениями параметра $C$ должна быть в логарифмической шкале). Ошибка измеряется как средняя абсолютная ошибка. \n",
    "2. Для наилучшего параметра $C$ постройте график с данными и предсказанием с помощью SVM.\n",
    "\n",
    "В каких случаях возникают эффекты недообучения, переобучения?"
   ]
  },
  {
   "cell_type": "code",
   "execution_count": 235,
   "metadata": {
    "collapsed": true
   },
   "outputs": [],
   "source": [
    "from sklearn.svm import SVR\n",
    "\n",
    "from sklearn.model_selection import GridSearchCV\n",
    "from sklearn.metrics import make_scorer\n",
    "\n",
    "from sklearn.metrics import mean_absolute_error"
   ]
  },
  {
   "cell_type": "code",
   "execution_count": 236,
   "metadata": {
    "collapsed": true
   },
   "outputs": [],
   "source": [
    "from sklearn.model_selection import train_test_split"
   ]
  },
  {
   "cell_type": "code",
   "execution_count": 257,
   "metadata": {
    "collapsed": true
   },
   "outputs": [],
   "source": [
    "def test_model(model, X, Y):\n",
    "    C_range = np.logspace(-5, 7, 20)\n",
    "    param_grid = dict(C=C_range)\n",
    "    mscorer = make_scorer(mean_absolute_error) # Make a custom MAE scorer\n",
    "    \n",
    "    grid = GridSearchCV(model, param_grid, cv=2, scoring=mscorer, n_jobs=4) # cv=2 -- one train and one test split\n",
    "    grid.fit(X.reshape(-1, 1), Y)\n",
    "    gridpd = pd.DataFrame(grid.cv_results_)\n",
    "    print('>>> Model {0}: \\n>>>> Grid scores:'.format(model))\n",
    "    print(gridpd[['mean_test_score', 'mean_train_score', 'param_C']])\n",
    "    print('>>>> Best estimator: {0}'.format(grid.best_estimator_))\n",
    "    return gridpd\n",
    "\n",
    "def make_model_mae_plot(model_name, test_score, train_score, param_C):\n",
    "    fig, ax = plt.subplots(figsize=(15,10))\n",
    "\n",
    "    ax.set_title(model_name)\n",
    "    ax.set_xlabel('C (logarithmic scale)')\n",
    "    ax.set_ylabel('MAE')\n",
    "\n",
    "    ax.semilogx(param_C, test_score, 'g')\n",
    "    ax.semilogx(param_C, train_score, 'r')\n",
    "    plt.legend(('Test score', 'Train score'))\n",
    "    \n",
    "    # Make arrow pointing to the best point in TEST score\n",
    "    tmpy = min(test_score)\n",
    "    tmpx = param_C[np.where(test_score == tmpy)[0][0]]\n",
    "    plt.annotate('Best test score', xy=(tmpx, tmpy), xytext=(tmpx - tmpx/1.5, tmpy + 0.3), arrowprops=dict(arrowstyle=\"->\"))"
   ]
  },
  {
   "cell_type": "markdown",
   "metadata": {},
   "source": [
    "# Построим графики заисимости MAE от C для разных ядер"
   ]
  },
  {
   "cell_type": "markdown",
   "metadata": {},
   "source": [
    "## График зависимости MAE от параметра C для линейного ядра"
   ]
  },
  {
   "cell_type": "code",
   "execution_count": 258,
   "metadata": {},
   "outputs": [
    {
     "name": "stdout",
     "output_type": "stream",
     "text": [
      ">>> Model SVR(C=1.0, cache_size=200, coef0=0.0, degree=3, epsilon=0.01, gamma='auto',\n",
      "  kernel='linear', max_iter=-1, shrinking=True, tol=0.001, verbose=False): \n",
      ">>>> Grid scores:\n",
      "    mean_test_score  mean_train_score      param_C\n",
      "0          0.178212          0.179856        1e-05\n",
      "1          0.178205          0.179713  4.28133e-05\n",
      "2          0.178300          0.179101  0.000183298\n",
      "3          0.180146          0.176649   0.00078476\n",
      "4          0.198544          0.167907   0.00335982\n",
      "5          0.301073          0.148498    0.0143845\n",
      "6          0.401022          0.138699    0.0615848\n",
      "7          0.514613          0.135413     0.263665\n",
      "8          0.552927          0.134629      1.12884\n",
      "9          0.552927          0.134629      4.83293\n",
      "10         0.552860          0.134627      20.6914\n",
      "11         0.552923          0.134629      88.5867\n",
      "12         0.552908          0.134628      379.269\n",
      "13         0.552770          0.134624      1623.78\n",
      "14         0.552471          0.134619      6951.93\n",
      "15         0.551446          0.134631      29763.5\n",
      "16         0.548706          0.134796       127427\n",
      "17         0.558930          0.137624       545559\n",
      "18         0.731873          0.169257  2.33572e+06\n",
      "19         0.515124          0.332457        1e+07\n",
      ">>>> Best estimator: SVR(C=2335721.4690901213, cache_size=200, coef0=0.0, degree=3, epsilon=0.01,\n",
      "  gamma='auto', kernel='linear', max_iter=-1, shrinking=True, tol=0.001,\n",
      "  verbose=False)\n"
     ]
    },
    {
     "data": {
      "image/png": "[encoded data removed]",
      "text/plain": [
       "<matplotlib.figure.Figure at 0x7fd00f02e588>"
      ]
     },
     "metadata": {},
     "output_type": "display_data"
    }
   ],
   "source": [
    "lin_svr = SVR(kernel='linear', epsilon=0.01)\n",
    "gridpd = test_model(lin_svr, X, Y)\n",
    "make_model_mae_plot(\"Linear SVR\", gridpd.mean_test_score, gridpd.mean_train_score, gridpd.param_C)"
   ]
  },
  {
   "cell_type": "markdown",
   "metadata": {},
   "source": [
    "## График зависимости MAE от параметра C для полинимиального ядра"
   ]
  },
  {
   "cell_type": "code",
   "execution_count": 259,
   "metadata": {
    "scrolled": false
   },
   "outputs": [
    {
     "name": "stdout",
     "output_type": "stream",
     "text": [
      ">>> Model SVR(C=1.0, cache_size=200, coef0=1, degree=3, epsilon=0.01, gamma=6,\n",
      "  kernel='poly', max_iter=-1, shrinking=True, tol=0.001, verbose=False): \n",
      ">>>> Grid scores:\n",
      "    mean_test_score  mean_train_score      param_C\n",
      "0          0.238979          0.155924        1e-05\n",
      "1          0.259611          0.151877  4.28133e-05\n",
      "2          0.276829          0.147033  0.000183298\n",
      "3          0.237285          0.138779   0.00078476\n",
      "4          0.436254          0.123910   0.00335982\n",
      "5          0.624521          0.120571    0.0143845\n",
      "6          0.960866          0.118755    0.0615848\n",
      "7          1.740380          0.115400     0.263665\n",
      "8          3.178199          0.112180      1.12884\n",
      "9          5.472970          0.109040      4.83293\n",
      "10         5.958431          0.108883      20.6914\n",
      "11         6.195704          0.110511      88.5867\n",
      "12         6.290832          0.113330      379.269\n",
      "13         6.364635          0.116776      1623.78\n",
      "14         8.343572          0.158784      6951.93\n",
      "15        16.511040          0.393964      29763.5\n",
      "16         8.226737          1.745515       127427\n",
      "17        45.363301          6.931242       545559\n",
      "18       205.533093         29.771137  2.33572e+06\n",
      "19       891.040423        127.452198        1e+07\n",
      ">>>> Best estimator: SVR(C=10000000.0, cache_size=200, coef0=1, degree=3, epsilon=0.01, gamma=6,\n",
      "  kernel='poly', max_iter=-1, shrinking=True, tol=0.001, verbose=False)\n"
     ]
    },
    {
     "data": {
      "image/png": "[encoded data removed]",
      "text/plain": [
       "<matplotlib.figure.Figure at 0x7fd00f00ae10>"
      ]
     },
     "metadata": {},
     "output_type": "display_data"
    }
   ],
   "source": [
    "poly_svr = SVR(kernel='poly', epsilon=0.01, degree = 3, gamma = 6, coef0 = 1)\n",
    "gridpd = test_model(poly_svr, X, Y)\n",
    "make_model_mae_plot(\"Polynomial SVR\", gridpd.mean_test_score, gridpd.mean_train_score, gridpd.param_C)"
   ]
  },
  {
   "cell_type": "markdown",
   "metadata": {},
   "source": [
    "## График зависимости MAE от параметра C для RBF ядра"
   ]
  },
  {
   "cell_type": "code",
   "execution_count": 260,
   "metadata": {},
   "outputs": [
    {
     "name": "stdout",
     "output_type": "stream",
     "text": [
      ">>> Model SVR(C=1.0, cache_size=200, coef0=1, degree=3, epsilon=0.01, gamma=6,\n",
      "  kernel='rbf', max_iter=-1, shrinking=True, tol=0.001, verbose=False): \n",
      ">>>> Grid scores:\n",
      "    mean_test_score  mean_train_score      param_C\n",
      "0          0.178208          0.179843        1e-05\n",
      "1          0.178186          0.179658  4.28133e-05\n",
      "2          0.178091          0.178868  0.000183298\n",
      "3          0.177698          0.175778   0.00078476\n",
      "4          0.175516          0.164507   0.00335982\n",
      "5          0.186879          0.135627    0.0143845\n",
      "6          0.205446          0.100634    0.0615848\n",
      "7          0.212794          0.060813     0.263665\n",
      "8          0.230255          0.044669      1.12884\n",
      "9          0.312149          0.028986      4.83293\n",
      "10         0.403837          0.021483      20.6914\n",
      "11         0.449633          0.017149      88.5867\n",
      "12         0.417896          0.014755      379.269\n",
      "13         1.519238          0.010321      1623.78\n",
      "14         1.724717          0.009492      6951.93\n",
      "15         1.165115          0.009150      29763.5\n",
      "16         1.711670          0.009136       127427\n",
      "17         4.131571          0.009212       545559\n",
      "18         4.131571          0.009212  2.33572e+06\n",
      "19         4.131571          0.009212        1e+07\n",
      ">>>> Best estimator: SVR(C=545559.47811685142, cache_size=200, coef0=1, degree=3, epsilon=0.01,\n",
      "  gamma=6, kernel='rbf', max_iter=-1, shrinking=True, tol=0.001,\n",
      "  verbose=False)\n"
     ]
    },
    {
     "data": {
      "image/png": "[encoded data removed]",
      "text/plain": [
       "<matplotlib.figure.Figure at 0x7fd00f3ac208>"
      ]
     },
     "metadata": {},
     "output_type": "display_data"
    }
   ],
   "source": [
    "poly_svr = SVR(kernel='rbf', epsilon=0.01, gamma = 6, coef0 = 1)\n",
    "gridpd = test_model(poly_svr, X, Y)\n",
    "make_model_mae_plot(\"RBF SVR\", gridpd.mean_test_score, gridpd.mean_train_score, gridpd.param_C)"
   ]
  },
  {
   "cell_type": "markdown",
   "metadata": {},
   "source": [
    "# Построим графики с данными и предсказаниями для наилучшего C для разных ядер"
   ]
  },
  {
   "cell_type": "code",
   "execution_count": 261,
   "metadata": {
    "collapsed": true
   },
   "outputs": [],
   "source": [
    "def plot_best_kernel(model, model_name, X, Y):\n",
    "    X_train, X_test, y_train, y_test = train_test_split(X.reshape(-1, 1), Y, test_size=0.3, random_state=13)\n",
    "    model.fit(X_train, y_train)\n",
    "    y_pred = model.predict(X_test)\n",
    "    \n",
    "    fig, ax = plt.subplots(figsize=(15,10))\n",
    "\n",
    "    ax.set_title(model_name)\n",
    "    ax.set_xlabel('X')\n",
    "    ax.set_ylabel('Y')\n",
    "\n",
    "    ax.scatter(X_test, y_test, c='g')\n",
    "    ax.scatter(X_test, y_pred, c='r')\n",
    "    plt.legend(('Тестовая выборка', 'Предсказанные результаты'))"
   ]
  },
  {
   "cell_type": "markdown",
   "metadata": {},
   "source": [
    "## Для линейного ядра"
   ]
  },
  {
   "cell_type": "code",
   "execution_count": 262,
   "metadata": {},
   "outputs": [
    {
     "data": {
      "image/png": "[encoded data removed]",
      "text/plain": [
       "<matplotlib.figure.Figure at 0x7fd00face198>"
      ]
     },
     "metadata": {},
     "output_type": "display_data"
    }
   ],
   "source": [
    "mdl = SVR(C=2335721.4690901213, cache_size=200, coef0=0.0, degree=3, epsilon=0.01,\n",
    "  gamma='auto', kernel='linear', max_iter=-1, shrinking=True, tol=0.001,\n",
    "  verbose=False)\n",
    "plot_best_kernel(mdl, \"Linear kernel best parameters\", X, Y)"
   ]
  },
  {
   "cell_type": "markdown",
   "metadata": {},
   "source": [
    "## Для полиномиального ядра"
   ]
  },
  {
   "cell_type": "code",
   "execution_count": 263,
   "metadata": {},
   "outputs": [
    {
     "data": {
      "image/png": "[encoded data removed]",
      "text/plain": [
       "<matplotlib.figure.Figure at 0x7fd00f0f3828>"
      ]
     },
     "metadata": {},
     "output_type": "display_data"
    }
   ],
   "source": [
    "mdl = SVR(C=10000000.0, cache_size=200, coef0=1, degree=3, epsilon=0.01, gamma=6,\n",
    "  kernel='poly', max_iter=-1, shrinking=True, tol=0.001, verbose=False)\n",
    "plot_best_kernel(mdl, \"Polynomial kernel best parameters\", X, Y)"
   ]
  },
  {
   "cell_type": "markdown",
   "metadata": {},
   "source": [
    "## Для RBF ядра"
   ]
  },
  {
   "cell_type": "code",
   "execution_count": 264,
   "metadata": {},
   "outputs": [
    {
     "data": {
      "image/png": "[encoded data removed]",
      "text/plain": [
       "<matplotlib.figure.Figure at 0x7fd00eff6eb8>"
      ]
     },
     "metadata": {},
     "output_type": "display_data"
    }
   ],
   "source": [
    "mdl = SVR(C=545559.47811685142, cache_size=200, coef0=1, degree=3, epsilon=0.01,\n",
    "  gamma=6, kernel='rbf', max_iter=-1, shrinking=True, tol=0.001,\n",
    "  verbose=False)\n",
    "plot_best_kernel(mdl, \"RBF kernel best parameters\", X, Y)"
   ]
  },
  {
   "cell_type": "markdown",
   "metadata": {},
   "source": [
    "Как видим, Linear ядро попыталось приблизить объекты выборки линейными функциями, поэтому качество предсказания оставляет желать лучшего.\n",
    "RBF ядро, хоть и вело себя чуть лучше других ядер, все равно не смогло достаточно качественно обучиться.\n",
    "Предполагаю, что изменение параметра cv в функции GridSearchCV поможет повысить качество предсказания с помощью кросс-валидации (во всех примерах выше cv = 2, что, как видим, недостаточно)"
   ]
  },
  {
   "cell_type": "markdown",
   "metadata": {},
   "source": [
    "# Определение языка слова (7 баллов)"
   ]
  },
  {
   "cell_type": "markdown",
   "metadata": {},
   "source": [
    "В данном задании вам необходимо построить модель, которая будет определять, на каком языке написано слово. Сделать это будет предложено двумя способами.\n",
    "\n",
    "Даны два текста - первые предложения произведения \"Война и Мир\" на английком и испанском, разбитые на слова."
   ]
  },
  {
   "cell_type": "markdown",
   "metadata": {},
   "source": [
    "## Загрузка (1 балл)\n",
    "\n",
    "Загрузите данные из файлов *war_and_peace_es.txt* и *war_and_peace_en.txt*.<br/> \n",
    "В результате вы должны получить pandas.DataFrame со столбцами *index* | *word* | *label*, где *index* - это индекс pandas, *word* - это слово и *label* - это метка класса (0 или 1)"
   ]
  },
  {
   "cell_type": "code",
   "execution_count": 245,
   "metadata": {},
   "outputs": [
    {
     "data": {
      "text/html": [
       "<div>\n",
       "<style>\n",
       "    .dataframe thead tr:only-child th {\n",
       "        text-align: right;\n",
       "    }\n",
       "\n",
       "    .dataframe thead th {\n",
       "        text-align: left;\n",
       "    }\n",
       "\n",
       "    .dataframe tbody tr th {\n",
       "        vertical-align: top;\n",
       "    }\n",
       "</style>\n",
       "<table border=\"1\" class=\"dataframe\">\n",
       "  <thead>\n",
       "    <tr style=\"text-align: right;\">\n",
       "      <th></th>\n",
       "      <th>word</th>\n",
       "      <th>label</th>\n",
       "    </tr>\n",
       "  </thead>\n",
       "  <tbody>\n",
       "    <tr>\n",
       "      <th>0</th>\n",
       "      <td>war</td>\n",
       "      <td>1</td>\n",
       "    </tr>\n",
       "    <tr>\n",
       "      <th>1</th>\n",
       "      <td>and</td>\n",
       "      <td>1</td>\n",
       "    </tr>\n",
       "    <tr>\n",
       "      <th>2</th>\n",
       "      <td>peace</td>\n",
       "      <td>1</td>\n",
       "    </tr>\n",
       "    <tr>\n",
       "      <th>3</th>\n",
       "      <td>leo</td>\n",
       "      <td>1</td>\n",
       "    </tr>\n",
       "    <tr>\n",
       "      <th>4</th>\n",
       "      <td>tolstoy</td>\n",
       "      <td>1</td>\n",
       "    </tr>\n",
       "  </tbody>\n",
       "</table>\n",
       "</div>"
      ],
      "text/plain": [
       "      word  label\n",
       "0      war      1\n",
       "1      and      1\n",
       "2    peace      1\n",
       "3      leo      1\n",
       "4  tolstoy      1"
      ]
     },
     "execution_count": 245,
     "metadata": {},
     "output_type": "execute_result"
    }
   ],
   "source": [
    "dfes = pd.read_table(\"war_and_peace_es.txt\", sep='\\n', header=None)\n",
    "dfen = pd.read_table(\"war_and_peace_en.txt\", sep='\\n', header=None)\n",
    "\n",
    "dfes.columns = ['word']\n",
    "dfen.columns = ['word']\n",
    "\n",
    "dfes.insert(1, 'label', np.zeros(len(dfes['word']), dtype=int))\n",
    "dfen.insert(1, 'label', np.ones(len(dfen['word']), dtype=int))\n",
    "df = dfes.append(dfen)\n",
    "df[df.label == 1].head()"
   ]
  },
  {
   "cell_type": "code",
   "execution_count": 246,
   "metadata": {},
   "outputs": [
    {
     "data": {
      "text/html": [
       "<div>\n",
       "<style>\n",
       "    .dataframe thead tr:only-child th {\n",
       "        text-align: right;\n",
       "    }\n",
       "\n",
       "    .dataframe thead th {\n",
       "        text-align: left;\n",
       "    }\n",
       "\n",
       "    .dataframe tbody tr th {\n",
       "        vertical-align: top;\n",
       "    }\n",
       "</style>\n",
       "<table border=\"1\" class=\"dataframe\">\n",
       "  <thead>\n",
       "    <tr style=\"text-align: right;\">\n",
       "      <th></th>\n",
       "      <th>word</th>\n",
       "      <th>label</th>\n",
       "    </tr>\n",
       "  </thead>\n",
       "  <tbody>\n",
       "    <tr>\n",
       "      <th>0</th>\n",
       "      <td>guerra</td>\n",
       "      <td>0</td>\n",
       "    </tr>\n",
       "    <tr>\n",
       "      <th>1</th>\n",
       "      <td>pace</td>\n",
       "      <td>0</td>\n",
       "    </tr>\n",
       "    <tr>\n",
       "      <th>2</th>\n",
       "      <td>lev</td>\n",
       "      <td>0</td>\n",
       "    </tr>\n",
       "    <tr>\n",
       "      <th>3</th>\n",
       "      <td>nicoevic</td>\n",
       "      <td>0</td>\n",
       "    </tr>\n",
       "    <tr>\n",
       "      <th>4</th>\n",
       "      <td>tolstj</td>\n",
       "      <td>0</td>\n",
       "    </tr>\n",
       "  </tbody>\n",
       "</table>\n",
       "</div>"
      ],
      "text/plain": [
       "       word  label\n",
       "0    guerra      0\n",
       "1      pace      0\n",
       "2       lev      0\n",
       "3  nicoevic      0\n",
       "4    tolstj      0"
      ]
     },
     "execution_count": 246,
     "metadata": {},
     "output_type": "execute_result"
    }
   ],
   "source": [
    "df[df.label == 0].head()"
   ]
  },
  {
   "cell_type": "markdown",
   "metadata": {},
   "source": [
    "## Подход с n-граммами (2 балла)"
   ]
  },
  {
   "cell_type": "markdown",
   "metadata": {},
   "source": [
    "На этом этапе предлагается построить модель используя n-граммы слов, то есть последовательностях из n символов.<br/>\n",
    "Таким образом, признаками наших данных будут все найденные n-граммы слов, а значениями признаков будут частоты соответствующих n-грамм в слове.<br/>\n",
    "Например, для слова \"guerra\" би-граммами будут \"gu\", \"ue\", \"er\", \"rr\", \"ra\", каждая из которых встречается в нем с частотой 1.\n",
    "\n",
    "Для того, чтобы выделять n-граммы, удобно использовать `CountVectorizer()` с аргументами `analyzer='char'` и `ngram_range=(n_min, n_max)`. Вы наверняка встречались с этим векторизатором в предыдущем модуле.\n",
    "\n",
    "Таким образом, сделайте следующее:\n",
    "1. Задайте переменную RND_SEED, которая будет использоваться в любых генераторах случайных чисел в вашем коде (обычно параметр \"random_seed\")\n",
    "2. Разбейте данные на обучающую и отложенную выборку в пропорции 80/20\n",
    "3. Составьте [`Pipeline`](http://scikit-learn.org/stable/modules/generated/sklearn.pipeline.Pipeline.html), состоящий из `CountVectorizer()` и SVM с линейным ядром\n",
    "4. Исследуйте, как влияют размер n-грамм и величина штрафа `C` на предсказательную силу модели. Мера качества - accuracy."
   ]
  },
  {
   "cell_type": "code",
   "execution_count": 270,
   "metadata": {
    "collapsed": true
   },
   "outputs": [],
   "source": [
    "RND_SEED = 1234\n",
    "from sklearn.feature_extraction.text import CountVectorizer\n",
    "from sklearn.metrics import accuracy_score\n",
    "from sklearn.pipeline import Pipeline\n",
    "from sklearn.svm import SVC"
   ]
  },
  {
   "cell_type": "code",
   "execution_count": 275,
   "metadata": {},
   "outputs": [
    {
     "data": {
      "text/plain": [
       "0.91552177725811168"
      ]
     },
     "execution_count": 275,
     "metadata": {},
     "output_type": "execute_result"
    }
   ],
   "source": [
    "# Вначале проверим работу SVM со стандартными гиперпараметрами на выборке\n",
    "X_train, X_test, y_train, y_test = train_test_split(df['word'], df['label'], test_size=0.3, random_state=RND_SEED)\n",
    "\n",
    "mpipe = Pipeline([('countv', CountVectorizer(analyzer='char', ngram_range=(2, 2))),\n",
    "                 ('svm', SVC(kernel='linear', random_state=RND_SEED))\n",
    "                ])\n",
    "\n",
    "mpipe = mpipe.fit(df['word'], df['label'])\n",
    "y_pred = mpipe.predict(X_test)\n",
    "\n",
    "# И рассчитаем accuracy score\n",
    "accuracy_score(y_pred=y_pred, y_true=y_test)"
   ]
  },
  {
   "cell_type": "code",
   "execution_count": 276,
   "metadata": {},
   "outputs": [
    {
     "data": {
      "text/plain": [
       "GridSearchCV(cv=3, error_score='raise',\n",
       "       estimator=Pipeline(steps=[('countv', CountVectorizer(analyzer='char', binary=False, decode_error='strict',\n",
       "        dtype=<class 'numpy.int64'>, encoding='utf-8', input='content',\n",
       "        lowercase=True, max_df=1.0, max_features=None, min_df=1,\n",
       "        ngram_range=(1, 1), preprocessor=None, stop_words=None,\n",
       "        str...,\n",
       "  max_iter=-1, probability=False, random_state=1234, shrinking=True,\n",
       "  tol=0.001, verbose=False))]),\n",
       "       fit_params={}, iid=True, n_jobs=4,\n",
       "       param_grid={'countv__ngram_range': [(2, 2), (2, 3), (3, 3), (4, 4)], 'svm__C': array([  1.00000e-05,   5.99484e-05,   3.59381e-04,   2.15443e-03,\n",
       "         1.29155e-02,   7.74264e-02,   4.64159e-01,   2.78256e+00,\n",
       "         1.66810e+01,   1.00000e+02])},\n",
       "       pre_dispatch='2*n_jobs', refit=True, return_train_score=True,\n",
       "       scoring='accuracy', verbose=0)"
      ]
     },
     "execution_count": 276,
     "metadata": {},
     "output_type": "execute_result"
    }
   ],
   "source": [
    "# Теперь с помощью GridSearchCV попробуем выбрать наилучшие гиперпараметры n-gramm и C\n",
    "mpipe = Pipeline([('countv', CountVectorizer(analyzer='char')),\n",
    "                 ('svm', SVC(kernel='linear', random_state=RND_SEED))\n",
    "                ])\n",
    "myngrams = [(2, 2), (2, 3), (3, 3), (4, 4)]\n",
    "C_range = np.logspace(-5, 2, num=10) # Было бы лучше взять logspace(-5, 7, 20), но это и так очень долго работает\n",
    "param_grid = dict(countv__ngram_range = myngrams, svm__C = C_range)\n",
    "grid = GridSearchCV(mpipe, param_grid, scoring='accuracy', cv=3, n_jobs=4)\n",
    "grid.fit(df['word'], df['label'])"
   ]
  },
  {
   "cell_type": "code",
   "execution_count": 278,
   "metadata": {},
   "outputs": [
    {
     "data": {
      "text/plain": [
       "[('countv',\n",
       "  CountVectorizer(analyzer='char', binary=False, decode_error='strict',\n",
       "          dtype=<class 'numpy.int64'>, encoding='utf-8', input='content',\n",
       "          lowercase=True, max_df=1.0, max_features=None, min_df=1,\n",
       "          ngram_range=(2, 3), preprocessor=None, stop_words=None,\n",
       "          strip_accents=None, token_pattern='(?u)\\\\b\\\\w\\\\w+\\\\b',\n",
       "          tokenizer=None, vocabulary=None)),\n",
       " ('svm',\n",
       "  SVC(C=0.4641588833612782, cache_size=200, class_weight=None, coef0=0.0,\n",
       "    decision_function_shape=None, degree=3, gamma='auto', kernel='linear',\n",
       "    max_iter=-1, probability=False, random_state=1234, shrinking=True,\n",
       "    tol=0.001, verbose=False))]"
      ]
     },
     "execution_count": 278,
     "metadata": {},
     "output_type": "execute_result"
    }
   ],
   "source": [
    "grid.best_estimator_.steps"
   ]
  },
  {
   "cell_type": "code",
   "execution_count": 279,
   "metadata": {},
   "outputs": [
    {
     "data": {
      "text/plain": [
       "0.97223034200526159"
      ]
     },
     "execution_count": 279,
     "metadata": {},
     "output_type": "execute_result"
    }
   ],
   "source": [
    "# Посмотрим на качество работы получившейся модели\n",
    "X_train, X_test, y_train, y_test = train_test_split(df['word'], df['label'], test_size=0.3, random_state=RND_SEED)\n",
    "\n",
    "mpipe = grid.best_estimator_\n",
    "mpipe = mpipe.fit(df['word'], df['label'])\n",
    "y_pred = mpipe.predict(X_test)\n",
    "\n",
    "# И рассчитаем accuracy score\n",
    "accuracy_score(y_pred=y_pred, y_true=y_test)"
   ]
  },
  {
   "cell_type": "markdown",
   "metadata": {},
   "source": [
    "* Качество полученной поиском в GridSearchCV модели: 0.97223\n",
    "* Качество модели со стандартными характеристиками: 0.91552\n",
    "* Результат: Подбор оптимальных гиперпараметров => увеличение качества предсказания"
   ]
  },
  {
   "cell_type": "markdown",
   "metadata": {},
   "source": [
    "## Подход с пользовательским ядром\n",
    "### Подготовка данных (1 балла)\n",
    "\n",
    "Особенностью пользовательского ядра в sklean.SVC является то, что на вход оно может принимать на вход **только** вектора чисел.<br/>\n",
    "В нашем случае это будут индексы соответствующих слов из корпуса. То есть вместо вектора ['treat', 'celebrit', 'prince', ...] на вход в ядро подается вектор из индексов [9209, 11145, 7735, ...] с помощью которых вы будете находить сами слова.\n",
    "\n",
    "Прежде чем мы начнем строить ядро, надо подготовить данные. Для этого:\n",
    "1. Задайте переменную RND_SEED, которая будет использоваться в любых генераторах случайных чисел в вашем коде (обычно параметр \"random_seed\")\n",
    "2. Случайным образом перемешайте и заново проиндексируйте таблицу, полученную выше (используйте методы `df.sample()` и `df.reset_index()`)\n",
    "3. Ядро может вычисляться достаточно долго, поэтому можете урезать таблицу, но оставить в ней не менее 1000 слов.\n",
    "4. Разбейте данные на обучающую и контрольную выборку в пропорции 80/20\n",
    "\n",
    "В результате вы должны получить вектор-столбец `X_train`, `X_test` с **индексами** слов и векторы `y_train`, `y_test` с метками классов."
   ]
  },
  {
   "cell_type": "code",
   "execution_count": 315,
   "metadata": {},
   "outputs": [],
   "source": [
    "RND_SEED = 1234\n",
    "df_cust = df.sample(2500)\n",
    "df_cust = df_cust.reset_index(drop=True)\n",
    "X_train, X_test, y_train, y_test = train_test_split(df_cust.index.values.reshape(-1, 1), df_cust['label'], test_size=0.2, random_state=RND_SEED)"
   ]
  },
  {
   "cell_type": "markdown",
   "metadata": {},
   "source": [
    "### Расчет ядра (2 балла)\n",
    "\n",
    "Теперь напишем собственное ядро для классификации строк. Для сравнения строк будем использовать [расстояние Левенштейна](https://ru.wikipedia.org/wiki/Расстояние_Левенштейна). Реализацию этого расстояния можно получить одним из двух способов:\n",
    "* скопировать функцию wfi_levenshtein из файла [pylev.py](https://github.com/toastdriven/pylev/blob/master/pylev.py)\n",
    "* поставить пакет [editdistance](https://pypi.python.org/pypi/editdistance) (будет работать быстрее, чем предыдущая реализация, но могут возникнуть проблемы с установкой)\n",
    "\n",
    "Ядро для сравнения строк должно принимать максимальное значение, когда слова одинаковы, и минимальное, когда очень отличаются. Это противоположно свойствам расстояния Левенштейна: оно равно 0, когда слова одинаковы, и максимально, когда слова разные. Поэтому подставьте значение расстояния Левенштейна в какое-нибудь ядро, зависящее от расстояния между объектами (например, гауссовское).\n",
    "\n",
    "Функция, реализующая расчет ядра должна принимать две матрицы $U$ и $V$ с признаковым описанием объектов (во время обучения они обе относятся к обучающей выборке, а во время применения - одна матрица относится к обучающей выборке, а другая к контрольной).\n",
    "Функция должна возвращать матрицу значений ядра для всех объектов попарно: $G_{ij} = K(U_i, V_j)$. Здесь $U_i$ — i-ый объект выборки $U$, а $V_j$ — j-ый объект выборки $V$.\n",
    "\n",
    "Сделайте следующее:\n",
    "1. Напишите функцию *string_kernel(U, V)*, расчитывающую матрицу ядра $G_{ij}$\n",
    "2. Визуализируйте матрицу только для тренировочной выборки (функция plt.imshow()).\n"
   ]
  },
  {
   "cell_type": "code",
   "execution_count": 367,
   "metadata": {},
   "outputs": [],
   "source": [
    "import editdistance\n",
    "import math\n",
    "def g(w1, w2, a):\n",
    "    l = editdistance.eval(w1, w2)\n",
    "    return math.exp(-(l**2)/2*a)\n",
    "def precompute_kernel(U, V, a):\n",
    "    kernel_res = np.zeros(shape=(len(U), len(V)))\n",
    "    k = 0\n",
    "    for i in U:\n",
    "        q = []\n",
    "        for j in V:\n",
    "            ti = i[0]\n",
    "            tj = j[0]\n",
    "            q.append(g(df_cust['word'][ti], df_cust['word'][tj], a))\n",
    "        kernel_res[k] = np.array(q)\n",
    "        k += 1\n",
    "    return kernel_res\n",
    "\n",
    "# Let's take parameter a=1 for Gauss kernel\n",
    "kernel_train = precompute_kernel(X_train, X_train, 1.5)\n",
    "kernel_test = precompute_kernel(X_test, X_train, 1.5)"
   ]
  },
  {
   "cell_type": "code",
   "execution_count": 368,
   "metadata": {},
   "outputs": [
    {
     "data": {
      "text/plain": [
       "<matplotlib.image.AxesImage at 0x7fd00c5c2ac8>"
      ]
     },
     "execution_count": 368,
     "metadata": {},
     "output_type": "execute_result"
    },
    {
     "data": {
      "image/png": "[encoded data removed]",
      "text/plain": [
       "<matplotlib.figure.Figure at 0x7fd00c6919b0>"
      ]
     },
     "metadata": {},
     "output_type": "display_data"
    }
   ],
   "source": [
    "plt.imshow(kernel_train)"
   ]
  },
  {
   "cell_type": "markdown",
   "metadata": {},
   "source": [
    "### Оценка качества (1 балл)\n",
    "\n",
    "Обучите метод опорных векторов с различными значениями параметра штрафа $C$.<br/>\n",
    "Для каждого значения выведите accuracy на обучащей и контрольной выборке.\n",
    "\n",
    "Постарайтесь достичь качества в 70% на тестовой выборке. Для улучшения качества можно увеличить размер тренировочной выборки. Но тогда обучение будет происходить дольше."
   ]
  },
  {
   "cell_type": "markdown",
   "metadata": {},
   "source": [
    "### Подберем гиперпараметры gamma и C\n",
    "(Я так и не дождался, если честно. Слишком долго работает)"
   ]
  },
  {
   "cell_type": "code",
   "execution_count": 333,
   "metadata": {},
   "outputs": [],
   "source": [
    "# https://stackoverflow.com/a/30586719\n",
    "# https://stackoverflow.com/a/46567718\n",
    "from sklearn.base import BaseEstimator, TransformerMixin\n",
    "class CustPrecomputedKernel(BaseEstimator,TransformerMixin):\n",
    "    def __init__(self, gamma=1.0):\n",
    "        self.gamma = gamma\n",
    "\n",
    "    def transform(self, X):\n",
    "        return precompute_kernel(X, self.X_train_, self.gamma)\n",
    "\n",
    "    def fit(self, X, y=None, **fit_params):\n",
    "        self.X_train_ = X\n",
    "        return self"
   ]
  },
  {
   "cell_type": "code",
   "execution_count": null,
   "metadata": {},
   "outputs": [],
   "source": [
    "m_svc = SVC(kernel='precomputed')\n",
    "cust_kern = CustPrecomputedKernel()\n",
    "mpipe = Pipeline([\n",
    "    ('custkernel', cust_kern),\n",
    "    ('svm', m_svc)\n",
    "])\n",
    "\n",
    "gamma_range = np.array([1])\n",
    "C_range = np.logspace(-7, 2, num=10)\n",
    "param_grid = dict(custkernel__gamma=gamma_range, svm__C=C_range)\n",
    "grid = GridSearchCV(mpipe, param_grid, cv=2, scoring='accuracy', n_jobs=-1)\n",
    "grid.fit(X_train, y_train)"
   ]
  },
  {
   "cell_type": "markdown",
   "metadata": {},
   "source": [
    "### Подберем гиперпараметр C считая, что gamma=1.5"
   ]
  },
  {
   "cell_type": "code",
   "execution_count": 369,
   "metadata": {},
   "outputs": [
    {
     "data": {
      "text/plain": [
       "GridSearchCV(cv=5, error_score='raise',\n",
       "       estimator=SVC(C=1.0, cache_size=200, class_weight=None, coef0=0.0,\n",
       "  decision_function_shape=None, degree=3, gamma='auto',\n",
       "  kernel='precomputed', max_iter=-1, probability=False, random_state=None,\n",
       "  shrinking=True, tol=0.001, verbose=False),\n",
       "       fit_params={}, iid=True, n_jobs=4,\n",
       "       param_grid={'C': array([  1.00000e-05,   3.16228e-05,   1.00000e-04,   3.16228e-04,\n",
       "         1.00000e-03,   3.16228e-03,   1.00000e-02,   3.16228e-02,\n",
       "         1.00000e-01,   3.16228e-01,   1.00000e+00,   3.16228e+00,\n",
       "         1.00000e+01,   3.16228e+01,   1.00000e+02,   3.16228e+02,\n",
       "         1.00000e+03,   3.16228e+03,   1.00000e+04,   3.16228e+04,\n",
       "         1.00000e+05,   3.16228e+05,   1.00000e+06,   3.16228e+06,\n",
       "         1.00000e+07])},\n",
       "       pre_dispatch='2*n_jobs', refit=True, return_train_score=True,\n",
       "       scoring='accuracy', verbose=0)"
      ]
     },
     "execution_count": 369,
     "metadata": {},
     "output_type": "execute_result"
    }
   ],
   "source": [
    "# Будем подбирать параметр C\n",
    "# Параметр `a' в Гауссовом ядре будем считать равным 1 \n",
    "# (хотя и его можно было бы попытаться подобрать через grid-search (https://stackoverflow.com/a/46567718))\n",
    "m_svc = SVC(kernel='precomputed')\n",
    "C_range = np.logspace(-5, 7, num=25)\n",
    "\n",
    "param_grid = dict(C=C_range)\n",
    "grid = GridSearchCV(m_svc, param_grid, cv=5, scoring='accuracy', n_jobs=4)\n",
    "grid.fit(kernel_train, y_train)"
   ]
  },
  {
   "cell_type": "code",
   "execution_count": 370,
   "metadata": {},
   "outputs": [
    {
     "data": {
      "text/plain": [
       "SVC(C=3.1622776601683795, cache_size=200, class_weight=None, coef0=0.0,\n",
       "  decision_function_shape=None, degree=3, gamma='auto',\n",
       "  kernel='precomputed', max_iter=-1, probability=False, random_state=None,\n",
       "  shrinking=True, tol=0.001, verbose=False)"
      ]
     },
     "execution_count": 370,
     "metadata": {},
     "output_type": "execute_result"
    }
   ],
   "source": [
    "grid.best_estimator_"
   ]
  },
  {
   "cell_type": "code",
   "execution_count": 371,
   "metadata": {},
   "outputs": [
    {
     "data": {
      "text/plain": [
       "0.84799999999999998"
      ]
     },
     "execution_count": 371,
     "metadata": {},
     "output_type": "execute_result"
    }
   ],
   "source": [
    "mm = grid.best_estimator_\n",
    "\n",
    "mm.fit(kernel_train, y_train)\n",
    "y_pred = mm.predict(kernel_test)\n",
    "accuracy_score(y_pred=y_pred, y_true=y_test)"
   ]
  },
  {
   "cell_type": "code",
   "execution_count": 374,
   "metadata": {},
   "outputs": [
    {
     "data": {
      "text/plain": [
       "[<matplotlib.lines.Line2D at 0x7fd00c315fd0>]"
      ]
     },
     "execution_count": 374,
     "metadata": {},
     "output_type": "execute_result"
    },
    {
     "data": {
      "image/png": "[encoded data removed]",
      "text/plain": [
       "<matplotlib.figure.Figure at 0x7fd00c490ef0>"
      ]
     },
     "metadata": {},
     "output_type": "display_data"
    }
   ],
   "source": [
    "# Построим график\n",
    "brpd = pd.DataFrame(grid.cv_results_)\n",
    "plt.xlabel('C')\n",
    "plt.ylabel('Accuracy')\n",
    "plt.semilogx(brpd['param_C'], brpd['mean_test_score'])"
   ]
  },
  {
   "cell_type": "code",
   "execution_count": null,
   "metadata": {
    "collapsed": true
   },
   "outputs": [],
   "source": []
  }
 ],
 "metadata": {
  "anaconda-cloud": {},
  "kernelspec": {
   "display_name": "Python 3",
   "language": "python",
   "name": "python3"
  },
  "language_info": {
   "codemirror_mode": {
    "name": "ipython",
    "version": 3
   },
   "file_extension": ".py",
   "mimetype": "text/x-python",
   "name": "python",
   "nbconvert_exporter": "python",
   "pygments_lexer": "ipython3",
   "version": "3.6.1"
  },
  "nav_menu": {},
  "toc": {
   "colors": {
    "hover_highlight": "#DAA520",
    "navigate_num": "#000000",
    "navigate_text": "#333333",
    "running_highlight": "#FF0000",
    "selected_highlight": "#FFD700",
    "sidebar_border": "#EEEEEE",
    "wrapper_background": "#FFFFFF"
   },
   "moveMenuLeft": true,
   "nav_menu": {
    "height": "217px",
    "width": "253px"
   },
   "navigate_menu": true,
   "number_sections": false,
   "sideBar": true,
   "threshold": 4,
   "toc_cell": false,
   "toc_section_display": "block",
   "toc_window_display": true,
   "widenNotebook": false
  }
 },
 "nbformat": 4,
 "nbformat_minor": 1
}
