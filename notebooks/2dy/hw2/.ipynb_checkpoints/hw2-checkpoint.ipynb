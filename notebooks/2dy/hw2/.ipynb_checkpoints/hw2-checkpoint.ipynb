{
 "cells": [
  {
   "cell_type": "markdown",
   "metadata": {},
   "source": [
    "# Домашнее задание 2"
   ]
  },
  {
   "cell_type": "markdown",
   "metadata": {},
   "source": [
    "Используя датасет [STUDENT ALCOHOL CONSUMPTION](https://archive.ics.uci.edu/ml/datasets/STUDENT+ALCOHOL+CONSUMPTION#) и статью \"USING\tDATA\tMINING\tTO\tPREDICT\tSECONDARY SCHOOL\tSTUDENT\tALCOHOL\tCONSUMPTION\" выполните следующие задания:"
   ]
  },
  {
   "cell_type": "markdown",
   "metadata": {},
   "source": [
    "### Предобработка (Max 2)\n",
    "- Приведите описание признаков датасета на русском языке с указанием типа данных (0.3 балла)\n",
    "- Предобработка данных (1.7)\n",
    "    - Проверьте наличие пропусков. В случае наличия пропусков заполните их медианными значениями (0.4)\n",
    "    - Подсчитайте количество людей, у которых матери с образованием \"0\" (0.4)\n",
    "    - Преобразуйте все номинальные признаки в несколько признаков с бинарным значение (0.4)\n",
    "    - Используя объект [SelectKBest](http://scikit-learn.org/stable/modules/generated/sklearn.feature_selection.SelectKBest.html#sklearn.feature_selection.SelectKBest) с параметром [f_regression](http://scikit-learn.org/stable/modules/generated/sklearn.feature_selection.f_regression.html#sklearn.feature_selection.f_regression)  выберите два признака, которые наиболее сильно связаны с признаком G3 (0.5)"
   ]
  },
  {
   "cell_type": "markdown",
   "metadata": {},
   "source": [
    "## Описание датасета\n",
    "1. school - Школа (Бинарный признак: \"GP\" - Gabriel Pereira или \"MS\" - Mousinho da Silveira)\n",
    "2. sex - Пол (Бинарный признак: \"F\" - женский или \"M\" - мужской)\n",
    "3. age - Возраст (Порядковый признак: от 15 до 22)\n",
    "4. address - Местность проживания (Бинарный признак: \"U\" - Городская местность или \"R\" - Сельская местность)\n",
    "5. famsize - Количество людей в семье (Бинарный признак: \"LE3\" - (<=3) человек или \"GT3\" - (>3) человек)\n",
    "6. Pstatus - Сожительство родителей (Бинарный признак: \"T\" - родители живут вместе или \"A\" - родители живут раздельно)\n",
    "7. Medu - Образование матери (Порядковый признак: 0 - Без образования,  1 - начальное образование (до 4го класса), 2 – с 5го по 6й класс, 3 – среднее образование or 4 – высшее образование)\n",
    "8. Fedu - Образование отца (Порядковый признак: 0 - Без образования,  1 - начальное образование (до 4го класса), 2 – с 5го по 6й класс, 3 – среднее образование or 4 – высшее образование)\n",
    "9. Mjob - Работа матери (Номинальный признак: \"teacher\", \"health\" care related, civil \"services\" (e.g. administrative or police), \"at_home\" or \"other\")\n",
    "10. Fjob - Работа отца (Номинальный признак: \"teacher\", \"health\" care related, civil \"services\" (e.g. administrative or police), \"at_home\" or \"other\")\n",
    "11. reason - Причины поступить в эту школу (мне реально надоело это переводить уже) (Номинальный признак: close to \"home\", school \"reputation\", \"course\" preference or \"other\")\n",
    "12. guardian - законный представитель (Номинальный признак: \"mother\", \"father\" or \"other\")\n",
    "13. traveltime - Время, затрачиваемое для того, чтобы доехать от дома до школы (Порядковый признак: 1 - <15 min., 2 - 15 to 30 min., 3 - 30 min. to 1 hour, or 4 - >1 hour)\n",
    "14. studytime - Время, затрачиваемое на обучение в неделю (Порядковый признак: 1 - <2 hours, 2 - 2 to 5 hours, 3 - 5 to 10 hours, or 4 - >10 hours)\n",
    "15. failures - Количество несданных предметов (Порядковый признак: n if 1<=n<3, else 4)\n",
    "16. schoolsup - Доп классы (?) (Бинарный признак: yes или no)\n",
    "17. famsup - Семейная образовательная поддержка (Бинарный признак: yes or no)\n",
    "18. paid - дополнительные оплачиваемые классы по предмету курса (Бинарный признак: yes or no)\n",
    "19. activities - внеклассные занятия (Бинарный признак: yes or no)\n",
    "20. nursery - учился в детском саду (Бинарный признак: yes or no)\n",
    "21. higher - Желание получить высшее образование (Бинарный признак: yes or no)\n",
    "22. internet - Доступ к домашнему Интернету (Бинарный признак: yes or no)\n",
    "23. romantic - Наличие романтических отношений (Бинарный признак: yes or no)\n",
    "24. famrel - Качество семейных отношений (Порядковый признак: from 1 - very bad to 5 - excellent)\n",
    "25. freetime - Наличие свободного времени после школы (Порядковый признак: from 1 - very low to 5 - very high)\n",
    "26. goout - Гуляет ли с друзьями (частота?) (Порядковый признак: from 1 - very low to 5 - very high)\n",
    "27. Dalc - потребление алкоголя в течение рабочего дня (Порядковый признак: from 1 - very low to 5 - very high)\n",
    "28. Walc - потребление алкоголя в выходные дни (Порядковый признак: from 1 - very low to 5 - very high)\n",
    "29. health - текущее состояние здоровья (Порядковый признак: from 1 - very bad to 5 - very good)\n",
    "30. absences - Количество пропусков школы (Порядковый признак: from 0 to 93)\n",
    "31. G1 - Оценка в первом учебном году (Порядковый признак: from 0 to 20)\n",
    "31. G2 - Оценка во втором учебном году (Порядковый признак: from 0 to 20)\n",
    "32. G3 - Результирующая оценка (Порядковый признак: from 0 to 20, output target)\n",
    "\n",
    "Всего получили 4 номинальных признака:\n",
    "1. Mjob\n",
    "2. Fjob\n",
    "3. reason\n",
    "4. guardian\n"
   ]
  },
  {
   "cell_type": "code",
   "execution_count": 1,
   "metadata": {
    "collapsed": true
   },
   "outputs": [],
   "source": [
    "%matplotlib inline\n",
    "import pandas as pd\n",
    "import numpy as np\n",
    "import matplotlib.pyplot as plt"
   ]
  },
  {
   "cell_type": "code",
   "execution_count": 24,
   "metadata": {},
   "outputs": [
    {
     "name": "stdout",
     "output_type": "stream",
     "text": [
      "Пропусков в данных нет\n"
     ]
    }
   ],
   "source": [
    "df = pd.read_csv(\"student-por.csv\", sep=';')\n",
    "df_cols = list(df.columns)\n",
    "\n",
    "# Проверим на пропуски\n",
    "if not True in pd.isnull(df):\n",
    "    print(\"Пропусков в данных нет\")"
   ]
  },
  {
   "cell_type": "code",
   "execution_count": 12,
   "metadata": {},
   "outputs": [
    {
     "data": {
      "text/plain": [
       "6"
      ]
     },
     "execution_count": 12,
     "metadata": {},
     "output_type": "execute_result"
    }
   ],
   "source": [
    "# Подсчитайте количество людей, у которых матери с образованием \"0\"\n",
    "len(df[df['Medu'] == 0])"
   ]
  },
  {
   "cell_type": "markdown",
   "metadata": {},
   "source": [
    "### Проведем преобразование признаков. \n",
    "* У нас имеется 4 номинальных признака (их преобразуем с помощью one-hot кодирования);\n",
    "* Также имеются бинарные признаки, заданные в виде строк (напр., school), их тоже преобразуем в числовой вид"
   ]
  },
  {
   "cell_type": "code",
   "execution_count": 55,
   "metadata": {
    "collapsed": true
   },
   "outputs": [],
   "source": [
    "def Convert_Attrs(df, attribute_name, replace_vals):\n",
    "    df[attribute_name].replace(replace_vals, inplace=True)\n",
    "    \n",
    "def GetUniqVals(lst):\n",
    "    return sorted(list(set(lst)))"
   ]
  },
  {
   "cell_type": "code",
   "execution_count": 59,
   "metadata": {},
   "outputs": [
    {
     "name": "stdout",
     "output_type": "stream",
     "text": [
      "{'GP': 0, 'MS': 1}\n",
      "{'F': 0, 'M': 1}\n",
      "{'R': 0, 'U': 1}\n",
      "{'GT3': 0, 'LE3': 1}\n",
      "{'A': 0, 'T': 1}\n",
      "{'no': 0, 'yes': 1}\n",
      "{'no': 0, 'yes': 1}\n",
      "{'no': 0, 'yes': 1}\n",
      "{'no': 0, 'yes': 1}\n",
      "{'no': 0, 'yes': 1}\n",
      "{'no': 0, 'yes': 1}\n",
      "{'no': 0, 'yes': 1}\n",
      "{'no': 0, 'yes': 1}\n"
     ]
    },
    {
     "data": {
      "text/html": [
       "<div>\n",
       "<style>\n",
       "    .dataframe thead tr:only-child th {\n",
       "        text-align: right;\n",
       "    }\n",
       "\n",
       "    .dataframe thead th {\n",
       "        text-align: left;\n",
       "    }\n",
       "\n",
       "    .dataframe tbody tr th {\n",
       "        vertical-align: top;\n",
       "    }\n",
       "</style>\n",
       "<table border=\"1\" class=\"dataframe\">\n",
       "  <thead>\n",
       "    <tr style=\"text-align: right;\">\n",
       "      <th></th>\n",
       "      <th>school</th>\n",
       "      <th>sex</th>\n",
       "      <th>age</th>\n",
       "      <th>address</th>\n",
       "      <th>famsize</th>\n",
       "      <th>Pstatus</th>\n",
       "      <th>Medu</th>\n",
       "      <th>Fedu</th>\n",
       "      <th>traveltime</th>\n",
       "      <th>studytime</th>\n",
       "      <th>...</th>\n",
       "      <th>Fjob_other</th>\n",
       "      <th>Fjob_services</th>\n",
       "      <th>Fjob_teacher</th>\n",
       "      <th>reason_course</th>\n",
       "      <th>reason_home</th>\n",
       "      <th>reason_other</th>\n",
       "      <th>reason_reputation</th>\n",
       "      <th>guardian_father</th>\n",
       "      <th>guardian_mother</th>\n",
       "      <th>guardian_other</th>\n",
       "    </tr>\n",
       "  </thead>\n",
       "  <tbody>\n",
       "    <tr>\n",
       "      <th>0</th>\n",
       "      <td>0</td>\n",
       "      <td>0</td>\n",
       "      <td>18</td>\n",
       "      <td>1</td>\n",
       "      <td>0</td>\n",
       "      <td>0</td>\n",
       "      <td>4</td>\n",
       "      <td>4</td>\n",
       "      <td>2</td>\n",
       "      <td>2</td>\n",
       "      <td>...</td>\n",
       "      <td>0</td>\n",
       "      <td>0</td>\n",
       "      <td>1</td>\n",
       "      <td>1</td>\n",
       "      <td>0</td>\n",
       "      <td>0</td>\n",
       "      <td>0</td>\n",
       "      <td>0</td>\n",
       "      <td>1</td>\n",
       "      <td>0</td>\n",
       "    </tr>\n",
       "    <tr>\n",
       "      <th>1</th>\n",
       "      <td>0</td>\n",
       "      <td>0</td>\n",
       "      <td>17</td>\n",
       "      <td>1</td>\n",
       "      <td>0</td>\n",
       "      <td>1</td>\n",
       "      <td>1</td>\n",
       "      <td>1</td>\n",
       "      <td>1</td>\n",
       "      <td>2</td>\n",
       "      <td>...</td>\n",
       "      <td>1</td>\n",
       "      <td>0</td>\n",
       "      <td>0</td>\n",
       "      <td>1</td>\n",
       "      <td>0</td>\n",
       "      <td>0</td>\n",
       "      <td>0</td>\n",
       "      <td>1</td>\n",
       "      <td>0</td>\n",
       "      <td>0</td>\n",
       "    </tr>\n",
       "    <tr>\n",
       "      <th>2</th>\n",
       "      <td>0</td>\n",
       "      <td>0</td>\n",
       "      <td>15</td>\n",
       "      <td>1</td>\n",
       "      <td>1</td>\n",
       "      <td>1</td>\n",
       "      <td>1</td>\n",
       "      <td>1</td>\n",
       "      <td>1</td>\n",
       "      <td>2</td>\n",
       "      <td>...</td>\n",
       "      <td>1</td>\n",
       "      <td>0</td>\n",
       "      <td>0</td>\n",
       "      <td>0</td>\n",
       "      <td>0</td>\n",
       "      <td>1</td>\n",
       "      <td>0</td>\n",
       "      <td>0</td>\n",
       "      <td>1</td>\n",
       "      <td>0</td>\n",
       "    </tr>\n",
       "    <tr>\n",
       "      <th>3</th>\n",
       "      <td>0</td>\n",
       "      <td>0</td>\n",
       "      <td>15</td>\n",
       "      <td>1</td>\n",
       "      <td>0</td>\n",
       "      <td>1</td>\n",
       "      <td>4</td>\n",
       "      <td>2</td>\n",
       "      <td>1</td>\n",
       "      <td>3</td>\n",
       "      <td>...</td>\n",
       "      <td>0</td>\n",
       "      <td>1</td>\n",
       "      <td>0</td>\n",
       "      <td>0</td>\n",
       "      <td>1</td>\n",
       "      <td>0</td>\n",
       "      <td>0</td>\n",
       "      <td>0</td>\n",
       "      <td>1</td>\n",
       "      <td>0</td>\n",
       "    </tr>\n",
       "    <tr>\n",
       "      <th>4</th>\n",
       "      <td>0</td>\n",
       "      <td>0</td>\n",
       "      <td>16</td>\n",
       "      <td>1</td>\n",
       "      <td>0</td>\n",
       "      <td>1</td>\n",
       "      <td>3</td>\n",
       "      <td>3</td>\n",
       "      <td>1</td>\n",
       "      <td>2</td>\n",
       "      <td>...</td>\n",
       "      <td>1</td>\n",
       "      <td>0</td>\n",
       "      <td>0</td>\n",
       "      <td>0</td>\n",
       "      <td>1</td>\n",
       "      <td>0</td>\n",
       "      <td>0</td>\n",
       "      <td>1</td>\n",
       "      <td>0</td>\n",
       "      <td>0</td>\n",
       "    </tr>\n",
       "  </tbody>\n",
       "</table>\n",
       "<p>5 rows × 46 columns</p>\n",
       "</div>"
      ],
      "text/plain": [
       "   school  sex  age  address  famsize  Pstatus  Medu  Fedu  traveltime  \\\n",
       "0       0    0   18        1        0        0     4     4           2   \n",
       "1       0    0   17        1        0        1     1     1           1   \n",
       "2       0    0   15        1        1        1     1     1           1   \n",
       "3       0    0   15        1        0        1     4     2           1   \n",
       "4       0    0   16        1        0        1     3     3           1   \n",
       "\n",
       "   studytime       ...        Fjob_other  Fjob_services  Fjob_teacher  \\\n",
       "0          2       ...                 0              0             1   \n",
       "1          2       ...                 1              0             0   \n",
       "2          2       ...                 1              0             0   \n",
       "3          3       ...                 0              1             0   \n",
       "4          2       ...                 1              0             0   \n",
       "\n",
       "   reason_course  reason_home  reason_other  reason_reputation  \\\n",
       "0              1            0             0                  0   \n",
       "1              1            0             0                  0   \n",
       "2              0            0             1                  0   \n",
       "3              0            1             0                  0   \n",
       "4              0            1             0                  0   \n",
       "\n",
       "   guardian_father  guardian_mother  guardian_other  \n",
       "0                0                1               0  \n",
       "1                1                0               0  \n",
       "2                0                1               0  \n",
       "3                0                1               0  \n",
       "4                1                0               0  \n",
       "\n",
       "[5 rows x 46 columns]"
      ]
     },
     "execution_count": 59,
     "metadata": {},
     "output_type": "execute_result"
    }
   ],
   "source": [
    "nominal_cols = ['Mjob', 'Fjob', 'reason', 'guardian']\n",
    "t_df = pd.get_dummies(df, columns=nominal_cols) # transformed df\n",
    "\n",
    "# Трансформируем строковые бинарные признаки в числовые бинарные признаки\n",
    "bincols_replace = df_cols[:2] + df_cols[3:6] + df_cols[15:23]\n",
    "\n",
    "for transform_col in bincols_replace:\n",
    "    rs = GetUniqVals(t_df[transform_col].values) # Область значений признака (2 строки)\n",
    "    d = {rs[0]:0, rs[1]:1} # Словарь для замены\n",
    "    print(d)\n",
    "    Convert_Attrs(t_df, transform_col, d) # Зaменить\n",
    "t_df.head()"
   ]
  },
  {
   "cell_type": "markdown",
   "metadata": {},
   "source": [
    "### Найдем два признака, наиболее сильно связанных с G3"
   ]
  },
  {
   "cell_type": "code",
   "execution_count": 60,
   "metadata": {
    "collapsed": true
   },
   "outputs": [],
   "source": [
    "from sklearn.feature_selection import SelectKBest\n",
    "from sklearn.feature_selection import f_regression"
   ]
  },
  {
   "cell_type": "code",
   "execution_count": 81,
   "metadata": {},
   "outputs": [],
   "source": [
    "m_cols = t_df.columns.tolist()\n",
    "m_cols.remove('G3')\n",
    "\n",
    "selector = SelectKBest(score_func=f_regression, k=2)\n",
    "selector.fit_transform(t_df[m_cols], t_df['G3'])\n",
    "\n",
    "# https://stackoverflow.com/a/43765224\n",
    "idxs_selected = selector.get_support(indices=True)\n",
    "indexes_absolute = list(t_df.columns[idxs_selected])"
   ]
  },
  {
   "cell_type": "code",
   "execution_count": 82,
   "metadata": {},
   "outputs": [
    {
     "data": {
      "text/plain": [
       "['G1', 'G2']"
      ]
     },
     "execution_count": 82,
     "metadata": {},
     "output_type": "execute_result"
    }
   ],
   "source": [
    "indexes_absolute"
   ]
  },
  {
   "cell_type": "markdown",
   "metadata": {},
   "source": [
    "----\n",
    "\n",
    "----"
   ]
  },
  {
   "cell_type": "markdown",
   "metadata": {},
   "source": [
    "### Регрессия (Max 4)\n",
    "Выберите один признак, который наиболее влияет на признак G3 и используя кросс-валидацию (cross-validation) выполните следующее:"
   ]
  },
  {
   "cell_type": "markdown",
   "metadata": {},
   "source": [
    "- На обучающей выборке обучите объект [RidgeСV](http://scikit-learn.org/stable/modules/generated/sklearn.linear_model.RidgeCV.html#sklearn.linear_model.RidgeCV) для различных alpha (0.2)\n",
    "- Выберите alpha при котором RidgeCV лучше всего предсказывает значения (0.1)\n",
    "- Подсчитайте метрику mean absolute error, mean squared error, median absolute error,r2 score(0.2)\n",
    "- Max (0.5)\n",
    "- ------------------------------------\n",
    "- Создайте объекты [SGDRegressor](http://scikit-learn.org/stable/modules/generated/sklearn.linear_model.SGDRegressor.html#sklearn.linear_model.SGDRegressor), используя все возможных варианты аргумента penalty (0.2)\n",
    "- Обучите все полученных объекты на обучающей выборке (0.1)\n",
    "- Подсчитайте метрику r2 score для всех объектов (0.2)\n",
    "- Max (0.5)\n",
    "- ------------------------------------\n",
    "- Создайте объекты с параметрами max_depth = 1,3, 10 [GradientBoostingRegressor](http://scikit-learn.org/stable/modules/generated/sklearn.ensemble.GradientBoostingRegressor.html#sklearn.ensemble.GradientBoostingRegressor) и для каждого объекта изменяйте количество n_estimators  от 100 до 1000 с шагом 100 (0.2)\n",
    "- Подсчитайте метрику r2 score для всех объектов (0.1)\n",
    "- Визуализируйте зависимость R2 oт n_estimators на графике (0.2)\n",
    "- Max (0.5)\n",
    "- -----------------------------------\n",
    "- Используя все доступные регрессоры в библиотеке sklearn, найдите самый лучший регрессор. (2.5)"
   ]
  },
  {
   "cell_type": "code",
   "execution_count": 128,
   "metadata": {
    "collapsed": true
   },
   "outputs": [],
   "source": [
    "from sklearn.linear_model import RidgeCV\n",
    "from sklearn.metrics import mean_absolute_error\n",
    "from sklearn.metrics import mean_squared_error\n",
    "from sklearn.metrics import median_absolute_error\n",
    "from sklearn.metrics import r2_score"
   ]
  },
  {
   "cell_type": "code",
   "execution_count": 86,
   "metadata": {},
   "outputs": [
    {
     "data": {
      "text/plain": [
       "['G2']"
      ]
     },
     "execution_count": 86,
     "metadata": {},
     "output_type": "execute_result"
    }
   ],
   "source": [
    "# Выберем один признак, наиболее сильно влияющий на G3\n",
    "selector = SelectKBest(score_func=f_regression, k=1)\n",
    "selector.fit_transform(t_df[m_cols], t_df['G3'])\n",
    "\n",
    "# https://stackoverflow.com/a/43765224\n",
    "idxs_selected = selector.get_support(indices=True)\n",
    "indexes_absolute = list(t_df.columns[idxs_selected])\n",
    "indexes_absolute"
   ]
  },
  {
   "cell_type": "code",
   "execution_count": 140,
   "metadata": {
    "scrolled": true
   },
   "outputs": [],
   "source": [
    "alphas = np.logspace(-5, 3, num=25)\n",
    "\n",
    "X, y = t_df['G2'], t_df['G3']\n",
    "\n",
    "X = X.values.reshape(-1, 1)\n",
    "y = y.values.reshape(-1, 1)\n",
    "\n",
    "rcv = RidgeCV(alphas=alphas).fit(X, y)"
   ]
  },
  {
   "cell_type": "code",
   "execution_count": 125,
   "metadata": {},
   "outputs": [
    {
     "data": {
      "text/plain": [
       "0.80791544510271429"
      ]
     },
     "execution_count": 125,
     "metadata": {},
     "output_type": "execute_result"
    }
   ],
   "source": [
    "y_pred = rcv.predict(X)\n",
    "mean_absolute_error(y_pred=y_pred, y_true=y)"
   ]
  },
  {
   "cell_type": "code",
   "execution_count": 129,
   "metadata": {},
   "outputs": [
    {
     "data": {
      "text/plain": [
       "1.6284955308871929"
      ]
     },
     "execution_count": 129,
     "metadata": {},
     "output_type": "execute_result"
    }
   ],
   "source": [
    "mean_squared_error(y_pred=y_pred, y_true=y)"
   ]
  },
  {
   "cell_type": "code",
   "execution_count": 130,
   "metadata": {},
   "outputs": [
    {
     "data": {
      "text/plain": [
       "0.6201379340695663"
      ]
     },
     "execution_count": 130,
     "metadata": {},
     "output_type": "execute_result"
    }
   ],
   "source": [
    "median_absolute_error(y_pred=y_pred, y_true=y)"
   ]
  },
  {
   "cell_type": "code",
   "execution_count": 131,
   "metadata": {},
   "outputs": [
    {
     "data": {
      "text/plain": [
       "0.84373030553310358"
      ]
     },
     "execution_count": 131,
     "metadata": {},
     "output_type": "execute_result"
    }
   ],
   "source": [
    "r2_score(y_pred=y_pred, y_true=y)"
   ]
  },
  {
   "cell_type": "code",
   "execution_count": 126,
   "metadata": {},
   "outputs": [
    {
     "data": {
      "text/plain": [
       "2.154434690031882"
      ]
     },
     "execution_count": 126,
     "metadata": {},
     "output_type": "execute_result"
    }
   ],
   "source": [
    "# Get best alpha parameter for RidgeCV\n",
    "rcv.alpha_"
   ]
  },
  {
   "cell_type": "markdown",
   "metadata": {},
   "source": [
    "### Получили наилучший параметр alpha = 2.154434690031882"
   ]
  },
  {
   "cell_type": "markdown",
   "metadata": {},
   "source": [
    "## Теперь будем работать с SGDRegressor"
   ]
  },
  {
   "cell_type": "code",
   "execution_count": 132,
   "metadata": {
    "collapsed": true
   },
   "outputs": [],
   "source": [
    "from sklearn.linear_model import SGDRegressor"
   ]
  },
  {
   "cell_type": "code",
   "execution_count": 145,
   "metadata": {},
   "outputs": [
    {
     "name": "stdout",
     "output_type": "stream",
     "text": [
      "For SGDRegressor with penalty param 'none' r2_score is '0.8244677134602847'\n",
      "\n",
      "For SGDRegressor with penalty param 'l2' r2_score is '0.8428435892318866'\n",
      "\n",
      "For SGDRegressor with penalty param 'l1' r2_score is '0.819532233215757'\n",
      "\n",
      "For SGDRegressor with penalty param 'elasticnet' r2_score is '0.8426336976598348'\n",
      "\n"
     ]
    }
   ],
   "source": [
    "penalty_params = ['none', 'l2', 'l1', 'elasticnet']\n",
    "sgdr_models = []\n",
    "\n",
    "# Construct SGDRegressor models with different penalty params\n",
    "for pen in penalty_params:\n",
    "    cur_model = SGDRegressor(penalty=pen)\n",
    "    sgdr_models.append(cur_model)\n",
    "\n",
    "# Fit and predict all the models\n",
    "sgdr_predictions = []\n",
    "for model in sgdr_models:\n",
    "    model.fit(X, y.ravel()) # Using ravel here to get rid of warning (flattens array)\n",
    "    y_pred = model.predict(X)\n",
    "    sgdr_predictions.append(y_pred)\n",
    "\n",
    "# Calculate r2_score for all the models\n",
    "sgdr_r2 = []\n",
    "for pred in sgdr_predictions:\n",
    "    m_score = r2_score(y_pred=pred, y_true=y)\n",
    "    sgdr_r2.append(m_score)\n",
    "\n",
    "# Output all the scores for models with different penalty params\n",
    "for penalty_type, penalty_r2 in zip(penalty_params, sgdr_r2):\n",
    "    print(\"For SGDRegressor with penalty param '{0}' r2_score is '{1}'\\n\".format(penalty_type, penalty_r2))"
   ]
  },
  {
   "cell_type": "markdown",
   "metadata": {},
   "source": [
    "## Теперь будем работать с GradientBoostingRegressor"
   ]
  },
  {
   "cell_type": "code",
   "execution_count": 146,
   "metadata": {
    "collapsed": true
   },
   "outputs": [],
   "source": [
    "from sklearn.ensemble import GradientBoostingRegressor"
   ]
  },
  {
   "cell_type": "code",
   "execution_count": 152,
   "metadata": {
    "collapsed": true
   },
   "outputs": [],
   "source": [
    "def TrainTestModel_r2(model):\n",
    "    \"\"\"\n",
    "    Returns r2_score for model\n",
    "    Trains on X, y\n",
    "    Tests on X\n",
    "    Checks score on y\n",
    "    \"\"\"\n",
    "    model.fit(X, y.ravel())\n",
    "    y_pred = model.predict(X)\n",
    "    return r2_score(y_pred=y_pred, y_true=y)"
   ]
  },
  {
   "cell_type": "code",
   "execution_count": 216,
   "metadata": {},
   "outputs": [],
   "source": [
    "def PlotEachModel_r2(max_depth_vals, n_estimators_vals, gbr_preds):\n",
    "    fig, ax = plt.subplots(figsize=(15,10))\n",
    "\n",
    "    ax.set_title('Зависимость r2_score от значения n_estimators для моделей с разным max_depth')\n",
    "    ax.set_xlabel('n_estimators')\n",
    "    ax.set_ylabel('r2_score')\n",
    "    #ax.set_ylim([0,1])\n",
    "\n",
    "    for dpth in max_depth_vals:\n",
    "        ax.plot(n_estimators_vals, gbr_preds[dpth])\n",
    "        \n",
    "    plt.legend(max_depth_vals)\n"
   ]
  },
  {
   "cell_type": "code",
   "execution_count": 217,
   "metadata": {},
   "outputs": [
    {
     "data": {
      "image/png": "[encoded data removed]",
      "text/plain": [
       "<matplotlib.figure.Figure at 0x7f375cd78c50>"
      ]
     },
     "metadata": {},
     "output_type": "display_data"
    }
   ],
   "source": [
    "max_depth_vals = [1, 3, 10]\n",
    "n_estimators_vals = np.arange(100, 1100, 100)\n",
    "\n",
    "gbr_preds = {} # Dict of special kind: {1: [r2_score for every num in n_estimators_vals], 3:..., 10:...}\n",
    "for i in max_depth_vals:\n",
    "    gbr_preds[i] = list()\n",
    "\n",
    "# Создадим объекты GradientBoostingRegressor с параметрыми max_depth и будем изменять у них n_estimators\n",
    "for cur_depth in max_depth_vals:\n",
    "    for cur_estimators in n_estimators_vals:\n",
    "        model = GradientBoostingRegressor(max_depth=cur_depth, n_estimators=cur_estimators)\n",
    "        cur_score = TrainTestModel_r2(model) # Get r2_score for model\n",
    "        gbr_preds[cur_depth].append(cur_score)\n",
    "        \n",
    "PlotEachModel_r2(max_depth_vals, n_estimators_vals, gbr_preds)"
   ]
  },
  {
   "cell_type": "code",
   "execution_count": 220,
   "metadata": {},
   "outputs": [
    {
     "name": "stdout",
     "output_type": "stream",
     "text": [
      "> max_depth: 1 \n",
      ">> n_estimators: 100 ==> r2_score 0.8512503086055347\n",
      ">> n_estimators: 200 ==> r2_score 0.8518882484796445\n",
      ">> n_estimators: 300 ==> r2_score 0.8518905770497266\n",
      ">> n_estimators: 400 ==> r2_score 0.8518909460620895\n",
      ">> n_estimators: 500 ==> r2_score 0.8518910501952449\n",
      ">> n_estimators: 600 ==> r2_score 0.8518910795044982\n",
      ">> n_estimators: 700 ==> r2_score 0.8518910877697892\n",
      ">> n_estimators: 800 ==> r2_score 0.8518910901010032\n",
      ">> n_estimators: 900 ==> r2_score 0.8518910907577613\n",
      ">> n_estimators: 1000 ==> r2_score 0.8518910909428474\n",
      "\n",
      "> max_depth: 3 \n",
      ">> n_estimators: 100 ==> r2_score 0.8518910860709151\n",
      ">> n_estimators: 200 ==> r2_score 0.8518910910154447\n",
      ">> n_estimators: 300 ==> r2_score 0.8518910910154448\n",
      ">> n_estimators: 400 ==> r2_score 0.8518910910154448\n",
      ">> n_estimators: 500 ==> r2_score 0.8518910910154448\n",
      ">> n_estimators: 600 ==> r2_score 0.8518910910154448\n",
      ">> n_estimators: 700 ==> r2_score 0.8518910910154448\n",
      ">> n_estimators: 800 ==> r2_score 0.8518910910154448\n",
      ">> n_estimators: 900 ==> r2_score 0.8518910910154448\n",
      ">> n_estimators: 1000 ==> r2_score 0.8518910910154448\n",
      "\n",
      "> max_depth: 10 \n",
      ">> n_estimators: 100 ==> r2_score 0.8518910904144289\n",
      ">> n_estimators: 200 ==> r2_score 0.8518910910154448\n",
      ">> n_estimators: 300 ==> r2_score 0.8518910910154448\n",
      ">> n_estimators: 400 ==> r2_score 0.8518910910154448\n",
      ">> n_estimators: 500 ==> r2_score 0.8518910910154448\n",
      ">> n_estimators: 600 ==> r2_score 0.8518910910154448\n",
      ">> n_estimators: 700 ==> r2_score 0.8518910910154448\n",
      ">> n_estimators: 800 ==> r2_score 0.8518910910154448\n",
      ">> n_estimators: 900 ==> r2_score 0.8518910910154448\n",
      ">> n_estimators: 1000 ==> r2_score 0.8518910910154448\n",
      "\n"
     ]
    }
   ],
   "source": [
    "# График не особо получился, т.к. значения r2_score для GBR не особо сильно различаются для разных значений max_depth \n",
    "# и n_estimators. Поэтоме дополнительно выведем их всех\n",
    "for n in max_depth_vals:\n",
    "    print('> max_depth: {0} '.format(n))\n",
    "    for n_e, scor in zip(n_estimators_vals, gbr_preds[n]):\n",
    "        print('>> n_estimators: {0} ==> r2_score {1}'.format(n_e, scor))\n",
    "    print('')"
   ]
  },
  {
   "cell_type": "code",
   "execution_count": 224,
   "metadata": {},
   "outputs": [
    {
     "name": "stdout",
     "output_type": "stream",
     "text": [
      "Hyperparameters of the best GBR model:\n",
      " r2_score 0.8518910910154448\n",
      " max_depth: 3\n",
      " n_estimators: 300\n"
     ]
    }
   ],
   "source": [
    "# Best r2_score for GBR:\n",
    "mx_r2 = 0    # Max r2_score\n",
    "mx_depth = 0 # max_depth param\n",
    "\n",
    "for val in max_depth_vals:\n",
    "    for scor in gbr_preds[val]:\n",
    "        if scor > mx_r2:\n",
    "            mx_r2 = scor\n",
    "            mx_depth = val\n",
    "print(\"Hyperparameters of the best GBR model:\\n r2_score {0}\\n max_depth: {1}\\n n_estimators: {2}\".format(mx_r2, \n",
    "                                                                                                          mx_depth, \n",
    "                                                                                                          n_estimators_vals[gbr_preds[mx_depth].index(mx_r2)]))"
   ]
  },
  {
   "cell_type": "markdown",
   "metadata": {},
   "source": [
    "----"
   ]
  },
  {
   "cell_type": "code",
   "execution_count": 226,
   "metadata": {
    "scrolled": true
   },
   "outputs": [
    {
     "name": "stdout",
     "output_type": "stream",
     "text": [
      "r2 scores for different models:\n",
      " > Model RidgeCV(alphas=[2.154434690031882], cv=None, fit_intercept=True,\n",
      "    gcv_mode=None, normalize=False, scoring=None, store_cv_values=False)\n",
      " r2_score 0.8437303055331036\n",
      "\n",
      " > Model SGDRegressor(alpha=0.0001, average=False, epsilon=0.1, eta0=0.01,\n",
      "       fit_intercept=True, l1_ratio=0.15, learning_rate='invscaling',\n",
      "       loss='squared_loss', n_iter=5, penalty='l2', power_t=0.25,\n",
      "       random_state=None, shuffle=True, verbose=0, warm_start=False)\n",
      " r2_score 0.8396849607610012\n",
      "\n",
      " > Model GradientBoostingRegressor(alpha=0.9, criterion='friedman_mse', init=None,\n",
      "             learning_rate=0.1, loss='ls', max_depth=3, max_features=None,\n",
      "             max_leaf_nodes=None, min_impurity_split=1e-07,\n",
      "             min_samples_leaf=1, min_samples_split=2,\n",
      "             min_weight_fraction_leaf=0.0, n_estimators=300,\n",
      "             presort='auto', random_state=None, subsample=1.0, verbose=0,\n",
      "             warm_start=False)\n",
      " r2_score 0.8518910910154448\n"
     ]
    }
   ],
   "source": [
    "# Найдем самый лучший регрессор из тех, которые мы уже использовали выше\n",
    "yr = y.ravel()\n",
    "rcv = RidgeCV(alphas=[2.154434690031882]).fit(X, yr)\n",
    "sgdr = SGDRegressor(penalty='l2').fit(X, yr)\n",
    "gbr = GradientBoostingRegressor(max_depth=3, n_estimators=300).fit(X, yr)\n",
    "\n",
    "y_pred_rcv = rcv.predict(X)\n",
    "y_pred_sgd = sgdr.predict(X)\n",
    "y_pred_gbr = gbr.predict(X)\n",
    "\n",
    "r2_rcv = r2_score(y_true=yr, y_pred=y_pred_rcv)\n",
    "r2_sgdr = r2_score(y_true=yr, y_pred=y_pred_sgd)\n",
    "r2_gbr = r2_score(y_true=yr, y_pred=y_pred_gbr)\n",
    "\n",
    "print(\"r2 scores for different models:\\n > Model {0}\\n r2_score {1}\\n\\n > Model {2}\\n r2_score {3}\\n\\n > Model {4}\\n r2_score {5}\".format(\n",
    "rcv, r2_rcv, sgdr, r2_sgdr, gbr, r2_gbr))"
   ]
  },
  {
   "cell_type": "markdown",
   "metadata": {},
   "source": [
    "Как видим, GradientBoostingRegressor достиг наилучшего r2_score среди всех рассмотренных нами моделей"
   ]
  },
  {
   "cell_type": "markdown",
   "metadata": {},
   "source": [
    "----\n",
    "\n",
    "----"
   ]
  },
  {
   "cell_type": "markdown",
   "metadata": {},
   "source": [
    "### Классификация (Max 4)\n",
    "- В статье описано использование Random Forest для предсказания важности факторов, влияющих на потребление алкоголя. Повторите эксперимент с использование объекта [RandomForest](http://scikit-learn.org/stable/modules/generated/sklearn.ensemble.RandomForestClassifier.html#sklearn.ensemble.RandomForestClassifier) и найдите наилучшие параметры. Укажите accuracy для наилучших параметров (0.5)\n",
    "- Обучите объект [GradientBoostingClassifier](http://scikit-learn.org/stable/modules/generated/sklearn.ensemble.GradientBoostingClassifier.html#sklearn.ensemble.GradientBoostingClassifier)  и найдите для него наилучшие параметры. Укажите accuracy для наилучших параметров (0.5)\n",
    "- Обучите объект [AdaBoostClassifier](http://scikit-learn.org/stable/modules/generated/sklearn.ensemble.AdaBoostClassifier.html)  и найдите для него наилучшие параметры. Укажите accuracy для наилучших параметров (0.5)\n",
    "- Найдите наилучший классификатор. Укажите accuracy для наилучших параметров (2.5)"
   ]
  },
  {
   "cell_type": "code",
   "execution_count": 227,
   "metadata": {
    "collapsed": true
   },
   "outputs": [],
   "source": [
    "from sklearn.ensemble import RandomForestClassifier, GradientBoostingClassifier, AdaBoostClassifier"
   ]
  },
  {
   "cell_type": "code",
   "execution_count": null,
   "metadata": {
    "collapsed": true
   },
   "outputs": [],
   "source": []
  },
  {
   "cell_type": "markdown",
   "metadata": {},
   "source": [
    "# Замечания\n",
    "\n",
    "- В работе следует использовать библиотеку scikit-learn версии 0.18 и scipy версии 0.18.1"
   ]
  }
 ],
 "metadata": {
  "kernelspec": {
   "display_name": "Python 3",
   "language": "python",
   "name": "python3"
  },
  "language_info": {
   "codemirror_mode": {
    "name": "ipython",
    "version": 3
   },
   "file_extension": ".py",
   "mimetype": "text/x-python",
   "name": "python",
   "nbconvert_exporter": "python",
   "pygments_lexer": "ipython3",
   "version": "3.6.1"
  }
 },
 "nbformat": 4,
 "nbformat_minor": 1
}
